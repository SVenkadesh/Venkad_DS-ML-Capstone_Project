{
 "cells": [
  {
   "cell_type": "code",
   "execution_count": 1,
   "id": "cd3191f6-b594-4098-8d3b-7884f1ca19ed",
   "metadata": {},
   "outputs": [],
   "source": [
    "# Import neccessary Libraries\n",
    "import pandas as pd\n",
    "import numpy as np\n",
    "import warnings\n",
    "warnings.filterwarnings(\"ignore\")"
   ]
  },
  {
   "cell_type": "code",
   "execution_count": 2,
   "id": "3f958ca5-0802-4dbe-a375-0f8175ae1a00",
   "metadata": {},
   "outputs": [],
   "source": [
    "# Import Dataset\n",
    "dataset = pd.read_csv('Data.csv')"
   ]
  },
  {
   "cell_type": "code",
   "execution_count": 3,
   "id": "07b5ce42-285a-4f25-a7a1-bad602ad5ba7",
   "metadata": {},
   "outputs": [
    {
     "data": {
      "text/html": [
       "<div>\n",
       "<style scoped>\n",
       "    .dataframe tbody tr th:only-of-type {\n",
       "        vertical-align: middle;\n",
       "    }\n",
       "\n",
       "    .dataframe tbody tr th {\n",
       "        vertical-align: top;\n",
       "    }\n",
       "\n",
       "    .dataframe thead th {\n",
       "        text-align: right;\n",
       "    }\n",
       "</style>\n",
       "<table border=\"1\" class=\"dataframe\">\n",
       "  <thead>\n",
       "    <tr style=\"text-align: right;\">\n",
       "      <th></th>\n",
       "      <th>Age</th>\n",
       "      <th>Salary</th>\n",
       "      <th>Country_Germany</th>\n",
       "      <th>Country_Spain</th>\n",
       "      <th>Purchased_Yes</th>\n",
       "    </tr>\n",
       "  </thead>\n",
       "  <tbody>\n",
       "    <tr>\n",
       "      <th>0</th>\n",
       "      <td>44.0</td>\n",
       "      <td>72000.0</td>\n",
       "      <td>False</td>\n",
       "      <td>False</td>\n",
       "      <td>False</td>\n",
       "    </tr>\n",
       "    <tr>\n",
       "      <th>1</th>\n",
       "      <td>27.0</td>\n",
       "      <td>48000.0</td>\n",
       "      <td>False</td>\n",
       "      <td>True</td>\n",
       "      <td>True</td>\n",
       "    </tr>\n",
       "    <tr>\n",
       "      <th>2</th>\n",
       "      <td>30.0</td>\n",
       "      <td>54000.0</td>\n",
       "      <td>True</td>\n",
       "      <td>False</td>\n",
       "      <td>False</td>\n",
       "    </tr>\n",
       "    <tr>\n",
       "      <th>3</th>\n",
       "      <td>38.0</td>\n",
       "      <td>61000.0</td>\n",
       "      <td>False</td>\n",
       "      <td>True</td>\n",
       "      <td>False</td>\n",
       "    </tr>\n",
       "    <tr>\n",
       "      <th>4</th>\n",
       "      <td>40.0</td>\n",
       "      <td>NaN</td>\n",
       "      <td>True</td>\n",
       "      <td>False</td>\n",
       "      <td>True</td>\n",
       "    </tr>\n",
       "    <tr>\n",
       "      <th>5</th>\n",
       "      <td>35.0</td>\n",
       "      <td>58000.0</td>\n",
       "      <td>False</td>\n",
       "      <td>False</td>\n",
       "      <td>True</td>\n",
       "    </tr>\n",
       "    <tr>\n",
       "      <th>6</th>\n",
       "      <td>NaN</td>\n",
       "      <td>52000.0</td>\n",
       "      <td>False</td>\n",
       "      <td>True</td>\n",
       "      <td>False</td>\n",
       "    </tr>\n",
       "    <tr>\n",
       "      <th>7</th>\n",
       "      <td>48.0</td>\n",
       "      <td>79000.0</td>\n",
       "      <td>False</td>\n",
       "      <td>False</td>\n",
       "      <td>True</td>\n",
       "    </tr>\n",
       "    <tr>\n",
       "      <th>8</th>\n",
       "      <td>50.0</td>\n",
       "      <td>83000.0</td>\n",
       "      <td>True</td>\n",
       "      <td>False</td>\n",
       "      <td>False</td>\n",
       "    </tr>\n",
       "    <tr>\n",
       "      <th>9</th>\n",
       "      <td>37.0</td>\n",
       "      <td>67000.0</td>\n",
       "      <td>False</td>\n",
       "      <td>False</td>\n",
       "      <td>True</td>\n",
       "    </tr>\n",
       "  </tbody>\n",
       "</table>\n",
       "</div>"
      ],
      "text/plain": [
       "    Age   Salary  Country_Germany  Country_Spain  Purchased_Yes\n",
       "0  44.0  72000.0            False          False          False\n",
       "1  27.0  48000.0            False           True           True\n",
       "2  30.0  54000.0             True          False          False\n",
       "3  38.0  61000.0            False           True          False\n",
       "4  40.0      NaN             True          False           True\n",
       "5  35.0  58000.0            False          False           True\n",
       "6   NaN  52000.0            False           True          False\n",
       "7  48.0  79000.0            False          False           True\n",
       "8  50.0  83000.0             True          False          False\n",
       "9  37.0  67000.0            False          False           True"
      ]
     },
     "execution_count": 3,
     "metadata": {},
     "output_type": "execute_result"
    }
   ],
   "source": [
    "# Applying one-hot encoading\n",
    "dataset = pd.get_dummies(dataset,drop_first=True)\n",
    "dataset"
   ]
  },
  {
   "cell_type": "code",
   "execution_count": 4,
   "id": "14c58e78-d1c3-4c9e-8a81-2615ad4ef1e3",
   "metadata": {},
   "outputs": [
    {
     "data": {
      "text/plain": [
       "Age                1\n",
       "Salary             1\n",
       "Country_Germany    0\n",
       "Country_Spain      0\n",
       "Purchased_Yes      0\n",
       "dtype: int64"
      ]
     },
     "execution_count": 4,
     "metadata": {},
     "output_type": "execute_result"
    }
   ],
   "source": [
    "# Finding any null values in the dataset\n",
    "dataset.isnull().sum()"
   ]
  },
  {
   "cell_type": "code",
   "execution_count": 5,
   "id": "c5904aef-e850-4c34-90ea-69f45212a9b3",
   "metadata": {},
   "outputs": [
    {
     "data": {
      "text/html": [
       "<div>\n",
       "<style scoped>\n",
       "    .dataframe tbody tr th:only-of-type {\n",
       "        vertical-align: middle;\n",
       "    }\n",
       "\n",
       "    .dataframe tbody tr th {\n",
       "        vertical-align: top;\n",
       "    }\n",
       "\n",
       "    .dataframe thead th {\n",
       "        text-align: right;\n",
       "    }\n",
       "</style>\n",
       "<table border=\"1\" class=\"dataframe\">\n",
       "  <thead>\n",
       "    <tr style=\"text-align: right;\">\n",
       "      <th></th>\n",
       "      <th>Age</th>\n",
       "      <th>Salary</th>\n",
       "      <th>Country_Germany</th>\n",
       "      <th>Country_Spain</th>\n",
       "      <th>Purchased_Yes</th>\n",
       "    </tr>\n",
       "  </thead>\n",
       "  <tbody>\n",
       "    <tr>\n",
       "      <th>0</th>\n",
       "      <td>44.000000</td>\n",
       "      <td>72000.000000</td>\n",
       "      <td>False</td>\n",
       "      <td>False</td>\n",
       "      <td>False</td>\n",
       "    </tr>\n",
       "    <tr>\n",
       "      <th>1</th>\n",
       "      <td>27.000000</td>\n",
       "      <td>48000.000000</td>\n",
       "      <td>False</td>\n",
       "      <td>True</td>\n",
       "      <td>True</td>\n",
       "    </tr>\n",
       "    <tr>\n",
       "      <th>2</th>\n",
       "      <td>30.000000</td>\n",
       "      <td>54000.000000</td>\n",
       "      <td>True</td>\n",
       "      <td>False</td>\n",
       "      <td>False</td>\n",
       "    </tr>\n",
       "    <tr>\n",
       "      <th>3</th>\n",
       "      <td>38.000000</td>\n",
       "      <td>61000.000000</td>\n",
       "      <td>False</td>\n",
       "      <td>True</td>\n",
       "      <td>False</td>\n",
       "    </tr>\n",
       "    <tr>\n",
       "      <th>4</th>\n",
       "      <td>40.000000</td>\n",
       "      <td>63777.777778</td>\n",
       "      <td>True</td>\n",
       "      <td>False</td>\n",
       "      <td>True</td>\n",
       "    </tr>\n",
       "    <tr>\n",
       "      <th>5</th>\n",
       "      <td>35.000000</td>\n",
       "      <td>58000.000000</td>\n",
       "      <td>False</td>\n",
       "      <td>False</td>\n",
       "      <td>True</td>\n",
       "    </tr>\n",
       "    <tr>\n",
       "      <th>6</th>\n",
       "      <td>38.777778</td>\n",
       "      <td>52000.000000</td>\n",
       "      <td>False</td>\n",
       "      <td>True</td>\n",
       "      <td>False</td>\n",
       "    </tr>\n",
       "    <tr>\n",
       "      <th>7</th>\n",
       "      <td>48.000000</td>\n",
       "      <td>79000.000000</td>\n",
       "      <td>False</td>\n",
       "      <td>False</td>\n",
       "      <td>True</td>\n",
       "    </tr>\n",
       "    <tr>\n",
       "      <th>8</th>\n",
       "      <td>50.000000</td>\n",
       "      <td>83000.000000</td>\n",
       "      <td>True</td>\n",
       "      <td>False</td>\n",
       "      <td>False</td>\n",
       "    </tr>\n",
       "    <tr>\n",
       "      <th>9</th>\n",
       "      <td>37.000000</td>\n",
       "      <td>67000.000000</td>\n",
       "      <td>False</td>\n",
       "      <td>False</td>\n",
       "      <td>True</td>\n",
       "    </tr>\n",
       "  </tbody>\n",
       "</table>\n",
       "</div>"
      ],
      "text/plain": [
       "         Age        Salary  Country_Germany  Country_Spain  Purchased_Yes\n",
       "0  44.000000  72000.000000            False          False          False\n",
       "1  27.000000  48000.000000            False           True           True\n",
       "2  30.000000  54000.000000             True          False          False\n",
       "3  38.000000  61000.000000            False           True          False\n",
       "4  40.000000  63777.777778             True          False           True\n",
       "5  35.000000  58000.000000            False          False           True\n",
       "6  38.777778  52000.000000            False           True          False\n",
       "7  48.000000  79000.000000            False          False           True\n",
       "8  50.000000  83000.000000             True          False          False\n",
       "9  37.000000  67000.000000            False          False           True"
      ]
     },
     "execution_count": 5,
     "metadata": {},
     "output_type": "execute_result"
    }
   ],
   "source": [
    "# Applying mean values to null\n",
    "dataset[\"Salary\"].fillna(dataset[\"Salary\"].mean(),inplace=True)\n",
    "dataset[\"Age\"].fillna(dataset[\"Age\"].mean(),inplace=True)\n",
    "dataset"
   ]
  },
  {
   "cell_type": "code",
   "execution_count": 6,
   "id": "6b528f6d-52d6-48b6-b455-fbe7b6889bb9",
   "metadata": {},
   "outputs": [
    {
     "data": {
      "text/plain": [
       "Age                0\n",
       "Salary             0\n",
       "Country_Germany    0\n",
       "Country_Spain      0\n",
       "Purchased_Yes      0\n",
       "dtype: int64"
      ]
     },
     "execution_count": 6,
     "metadata": {},
     "output_type": "execute_result"
    }
   ],
   "source": [
    "# To check the null values are correctly applied or if any other null values are there\n",
    "dataset.isnull().sum()"
   ]
  },
  {
   "cell_type": "code",
   "execution_count": 7,
   "id": "6dcb20de-529b-4ac8-a9ff-cdc986e7aac5",
   "metadata": {},
   "outputs": [
    {
     "name": "stdout",
     "output_type": "stream",
     "text": [
      "<class 'pandas.core.frame.DataFrame'>\n",
      "RangeIndex: 10 entries, 0 to 9\n",
      "Data columns (total 5 columns):\n",
      " #   Column           Non-Null Count  Dtype  \n",
      "---  ------           --------------  -----  \n",
      " 0   Age              10 non-null     float64\n",
      " 1   Salary           10 non-null     float64\n",
      " 2   Country_Germany  10 non-null     bool   \n",
      " 3   Country_Spain    10 non-null     bool   \n",
      " 4   Purchased_Yes    10 non-null     bool   \n",
      "dtypes: bool(3), float64(2)\n",
      "memory usage: 322.0 bytes\n"
     ]
    }
   ],
   "source": [
    "# Checking the column type\n",
    "dataset.info()"
   ]
  },
  {
   "cell_type": "code",
   "execution_count": 8,
   "id": "2b23eb3b-9745-4d3e-ba4f-1504bc765200",
   "metadata": {},
   "outputs": [
    {
     "name": "stdout",
     "output_type": "stream",
     "text": [
      "<class 'pandas.core.frame.DataFrame'>\n",
      "RangeIndex: 10 entries, 0 to 9\n",
      "Data columns (total 5 columns):\n",
      " #   Column           Non-Null Count  Dtype\n",
      "---  ------           --------------  -----\n",
      " 0   Age              10 non-null     int64\n",
      " 1   Salary           10 non-null     int64\n",
      " 2   Country_Germany  10 non-null     bool \n",
      " 3   Country_Spain    10 non-null     bool \n",
      " 4   Purchased_Yes    10 non-null     bool \n",
      "dtypes: bool(3), int64(2)\n",
      "memory usage: 322.0 bytes\n"
     ]
    }
   ],
   "source": [
    "# Changing the columns type to corresponding data type\n",
    "dataset['Age'] = dataset['Age'].astype('int64')\n",
    "dataset['Salary'] = dataset['Salary'].astype('int64')\n",
    "dataset.info()"
   ]
  },
  {
   "cell_type": "code",
   "execution_count": 9,
   "id": "5547101e-111a-445e-b2b7-403a0475aa8a",
   "metadata": {},
   "outputs": [
    {
     "data": {
      "text/html": [
       "<div>\n",
       "<style scoped>\n",
       "    .dataframe tbody tr th:only-of-type {\n",
       "        vertical-align: middle;\n",
       "    }\n",
       "\n",
       "    .dataframe tbody tr th {\n",
       "        vertical-align: top;\n",
       "    }\n",
       "\n",
       "    .dataframe thead th {\n",
       "        text-align: right;\n",
       "    }\n",
       "</style>\n",
       "<table border=\"1\" class=\"dataframe\">\n",
       "  <thead>\n",
       "    <tr style=\"text-align: right;\">\n",
       "      <th></th>\n",
       "      <th>Age</th>\n",
       "      <th>Salary</th>\n",
       "      <th>Country_Germany</th>\n",
       "      <th>Country_Spain</th>\n",
       "      <th>Purchased_Yes</th>\n",
       "    </tr>\n",
       "  </thead>\n",
       "  <tbody>\n",
       "    <tr>\n",
       "      <th>0</th>\n",
       "      <td>44</td>\n",
       "      <td>72000</td>\n",
       "      <td>False</td>\n",
       "      <td>False</td>\n",
       "      <td>False</td>\n",
       "    </tr>\n",
       "    <tr>\n",
       "      <th>1</th>\n",
       "      <td>27</td>\n",
       "      <td>48000</td>\n",
       "      <td>False</td>\n",
       "      <td>True</td>\n",
       "      <td>True</td>\n",
       "    </tr>\n",
       "    <tr>\n",
       "      <th>2</th>\n",
       "      <td>30</td>\n",
       "      <td>54000</td>\n",
       "      <td>True</td>\n",
       "      <td>False</td>\n",
       "      <td>False</td>\n",
       "    </tr>\n",
       "    <tr>\n",
       "      <th>3</th>\n",
       "      <td>38</td>\n",
       "      <td>61000</td>\n",
       "      <td>False</td>\n",
       "      <td>True</td>\n",
       "      <td>False</td>\n",
       "    </tr>\n",
       "    <tr>\n",
       "      <th>4</th>\n",
       "      <td>40</td>\n",
       "      <td>63777</td>\n",
       "      <td>True</td>\n",
       "      <td>False</td>\n",
       "      <td>True</td>\n",
       "    </tr>\n",
       "    <tr>\n",
       "      <th>5</th>\n",
       "      <td>35</td>\n",
       "      <td>58000</td>\n",
       "      <td>False</td>\n",
       "      <td>False</td>\n",
       "      <td>True</td>\n",
       "    </tr>\n",
       "    <tr>\n",
       "      <th>6</th>\n",
       "      <td>38</td>\n",
       "      <td>52000</td>\n",
       "      <td>False</td>\n",
       "      <td>True</td>\n",
       "      <td>False</td>\n",
       "    </tr>\n",
       "    <tr>\n",
       "      <th>7</th>\n",
       "      <td>48</td>\n",
       "      <td>79000</td>\n",
       "      <td>False</td>\n",
       "      <td>False</td>\n",
       "      <td>True</td>\n",
       "    </tr>\n",
       "    <tr>\n",
       "      <th>8</th>\n",
       "      <td>50</td>\n",
       "      <td>83000</td>\n",
       "      <td>True</td>\n",
       "      <td>False</td>\n",
       "      <td>False</td>\n",
       "    </tr>\n",
       "    <tr>\n",
       "      <th>9</th>\n",
       "      <td>37</td>\n",
       "      <td>67000</td>\n",
       "      <td>False</td>\n",
       "      <td>False</td>\n",
       "      <td>True</td>\n",
       "    </tr>\n",
       "  </tbody>\n",
       "</table>\n",
       "</div>"
      ],
      "text/plain": [
       "   Age  Salary  Country_Germany  Country_Spain  Purchased_Yes\n",
       "0   44   72000            False          False          False\n",
       "1   27   48000            False           True           True\n",
       "2   30   54000             True          False          False\n",
       "3   38   61000            False           True          False\n",
       "4   40   63777             True          False           True\n",
       "5   35   58000            False          False           True\n",
       "6   38   52000            False           True          False\n",
       "7   48   79000            False          False           True\n",
       "8   50   83000             True          False          False\n",
       "9   37   67000            False          False           True"
      ]
     },
     "execution_count": 9,
     "metadata": {},
     "output_type": "execute_result"
    }
   ],
   "source": [
    "dataset"
   ]
  },
  {
   "cell_type": "code",
   "execution_count": 10,
   "id": "991083f3-7c03-42f9-b11f-655b0fa8b770",
   "metadata": {},
   "outputs": [
    {
     "data": {
      "text/html": [
       "<div>\n",
       "<style scoped>\n",
       "    .dataframe tbody tr th:only-of-type {\n",
       "        vertical-align: middle;\n",
       "    }\n",
       "\n",
       "    .dataframe tbody tr th {\n",
       "        vertical-align: top;\n",
       "    }\n",
       "\n",
       "    .dataframe thead th {\n",
       "        text-align: right;\n",
       "    }\n",
       "</style>\n",
       "<table border=\"1\" class=\"dataframe\">\n",
       "  <thead>\n",
       "    <tr style=\"text-align: right;\">\n",
       "      <th></th>\n",
       "      <th>Age</th>\n",
       "      <th>Salary</th>\n",
       "    </tr>\n",
       "  </thead>\n",
       "  <tbody>\n",
       "    <tr>\n",
       "      <th>count</th>\n",
       "      <td>10.000000</td>\n",
       "      <td>10.000000</td>\n",
       "    </tr>\n",
       "    <tr>\n",
       "      <th>mean</th>\n",
       "      <td>38.700000</td>\n",
       "      <td>63777.700000</td>\n",
       "    </tr>\n",
       "    <tr>\n",
       "      <th>std</th>\n",
       "      <td>7.257946</td>\n",
       "      <td>11564.099408</td>\n",
       "    </tr>\n",
       "    <tr>\n",
       "      <th>min</th>\n",
       "      <td>27.000000</td>\n",
       "      <td>48000.000000</td>\n",
       "    </tr>\n",
       "    <tr>\n",
       "      <th>25%</th>\n",
       "      <td>35.500000</td>\n",
       "      <td>55000.000000</td>\n",
       "    </tr>\n",
       "    <tr>\n",
       "      <th>50%</th>\n",
       "      <td>38.000000</td>\n",
       "      <td>62388.500000</td>\n",
       "    </tr>\n",
       "    <tr>\n",
       "      <th>75%</th>\n",
       "      <td>43.000000</td>\n",
       "      <td>70750.000000</td>\n",
       "    </tr>\n",
       "    <tr>\n",
       "      <th>max</th>\n",
       "      <td>50.000000</td>\n",
       "      <td>83000.000000</td>\n",
       "    </tr>\n",
       "  </tbody>\n",
       "</table>\n",
       "</div>"
      ],
      "text/plain": [
       "             Age        Salary\n",
       "count  10.000000     10.000000\n",
       "mean   38.700000  63777.700000\n",
       "std     7.257946  11564.099408\n",
       "min    27.000000  48000.000000\n",
       "25%    35.500000  55000.000000\n",
       "50%    38.000000  62388.500000\n",
       "75%    43.000000  70750.000000\n",
       "max    50.000000  83000.000000"
      ]
     },
     "execution_count": 10,
     "metadata": {},
     "output_type": "execute_result"
    }
   ],
   "source": [
    "dataset.describe()"
   ]
  },
  {
   "cell_type": "code",
   "execution_count": 11,
   "id": "2a27e8f8-349e-4c91-b1ef-19f52204eb16",
   "metadata": {},
   "outputs": [],
   "source": [
    "# Segrigate Quan & Qual columns\n",
    "qual=[]\n",
    "quan=[]\n",
    "for columnname in dataset:\n",
    "    if (dataset[columnname].dtype =='int64'):\n",
    "        quan.append(columnname)\n",
    "    else:\n",
    "        qual.append(columnname)"
   ]
  },
  {
   "cell_type": "code",
   "execution_count": 12,
   "id": "29d2220c-397a-4f05-af7d-8dcd07b0627d",
   "metadata": {},
   "outputs": [
    {
     "data": {
      "text/plain": [
       "['Age', 'Salary']"
      ]
     },
     "execution_count": 12,
     "metadata": {},
     "output_type": "execute_result"
    }
   ],
   "source": [
    "quan"
   ]
  },
  {
   "cell_type": "code",
   "execution_count": 13,
   "id": "895c8841-5aa3-43eb-8a0c-f7559f8ed9bf",
   "metadata": {},
   "outputs": [
    {
     "data": {
      "text/plain": [
       "['Country_Germany', 'Country_Spain', 'Purchased_Yes']"
      ]
     },
     "execution_count": 13,
     "metadata": {},
     "output_type": "execute_result"
    }
   ],
   "source": [
    "qual"
   ]
  },
  {
   "cell_type": "code",
   "execution_count": 14,
   "id": "2229a0ab-8f2a-4359-b4f9-7e557ce32e53",
   "metadata": {},
   "outputs": [
    {
     "data": {
      "text/html": [
       "<div>\n",
       "<style scoped>\n",
       "    .dataframe tbody tr th:only-of-type {\n",
       "        vertical-align: middle;\n",
       "    }\n",
       "\n",
       "    .dataframe tbody tr th {\n",
       "        vertical-align: top;\n",
       "    }\n",
       "\n",
       "    .dataframe thead th {\n",
       "        text-align: right;\n",
       "    }\n",
       "</style>\n",
       "<table border=\"1\" class=\"dataframe\">\n",
       "  <thead>\n",
       "    <tr style=\"text-align: right;\">\n",
       "      <th></th>\n",
       "    </tr>\n",
       "  </thead>\n",
       "  <tbody>\n",
       "    <tr>\n",
       "      <th>Mean</th>\n",
       "    </tr>\n",
       "    <tr>\n",
       "      <th>Median</th>\n",
       "    </tr>\n",
       "    <tr>\n",
       "      <th>Mode</th>\n",
       "    </tr>\n",
       "  </tbody>\n",
       "</table>\n",
       "</div>"
      ],
      "text/plain": [
       "Empty DataFrame\n",
       "Columns: []\n",
       "Index: [Mean, Median, Mode]"
      ]
     },
     "execution_count": 14,
     "metadata": {},
     "output_type": "execute_result"
    }
   ],
   "source": [
    "# Mean, Median, Mode should frame as a column and want display the data like as a table format of structure, so using DataFrame function\n",
    "desc = pd.DataFrame(index=[\"Mean\",\"Median\",\"Mode\"])\n",
    "desc"
   ]
  },
  {
   "cell_type": "code",
   "execution_count": 15,
   "id": "052a66bb-caf3-4421-a327-e86732e0adc1",
   "metadata": {},
   "outputs": [
    {
     "data": {
      "text/html": [
       "<div>\n",
       "<style scoped>\n",
       "    .dataframe tbody tr th:only-of-type {\n",
       "        vertical-align: middle;\n",
       "    }\n",
       "\n",
       "    .dataframe tbody tr th {\n",
       "        vertical-align: top;\n",
       "    }\n",
       "\n",
       "    .dataframe thead th {\n",
       "        text-align: right;\n",
       "    }\n",
       "</style>\n",
       "<table border=\"1\" class=\"dataframe\">\n",
       "  <thead>\n",
       "    <tr style=\"text-align: right;\">\n",
       "      <th></th>\n",
       "      <th>Age</th>\n",
       "      <th>Salary</th>\n",
       "    </tr>\n",
       "  </thead>\n",
       "  <tbody>\n",
       "    <tr>\n",
       "      <th>Mean</th>\n",
       "      <td>NaN</td>\n",
       "      <td>NaN</td>\n",
       "    </tr>\n",
       "    <tr>\n",
       "      <th>Median</th>\n",
       "      <td>NaN</td>\n",
       "      <td>NaN</td>\n",
       "    </tr>\n",
       "    <tr>\n",
       "      <th>Mode</th>\n",
       "      <td>NaN</td>\n",
       "      <td>NaN</td>\n",
       "    </tr>\n",
       "  </tbody>\n",
       "</table>\n",
       "</div>"
      ],
      "text/plain": [
       "        Age Salary\n",
       "Mean    NaN    NaN\n",
       "Median  NaN    NaN\n",
       "Mode    NaN    NaN"
      ]
     },
     "execution_count": 15,
     "metadata": {},
     "output_type": "execute_result"
    }
   ],
   "source": [
    "desc = pd.DataFrame(index=[\"Mean\",\"Median\",\"Mode\"],columns=quan)\n",
    "desc"
   ]
  },
  {
   "cell_type": "code",
   "execution_count": 16,
   "id": "f9106318-9e15-4c4e-8acd-61715e5f63aa",
   "metadata": {},
   "outputs": [
    {
     "data": {
      "text/html": [
       "<div>\n",
       "<style scoped>\n",
       "    .dataframe tbody tr th:only-of-type {\n",
       "        vertical-align: middle;\n",
       "    }\n",
       "\n",
       "    .dataframe tbody tr th {\n",
       "        vertical-align: top;\n",
       "    }\n",
       "\n",
       "    .dataframe thead th {\n",
       "        text-align: right;\n",
       "    }\n",
       "</style>\n",
       "<table border=\"1\" class=\"dataframe\">\n",
       "  <thead>\n",
       "    <tr style=\"text-align: right;\">\n",
       "      <th></th>\n",
       "      <th>Age</th>\n",
       "      <th>Salary</th>\n",
       "    </tr>\n",
       "  </thead>\n",
       "  <tbody>\n",
       "    <tr>\n",
       "      <th>Mean</th>\n",
       "      <td>38.7</td>\n",
       "      <td>63777.7</td>\n",
       "    </tr>\n",
       "    <tr>\n",
       "      <th>Median</th>\n",
       "      <td>38.0</td>\n",
       "      <td>62388.5</td>\n",
       "    </tr>\n",
       "    <tr>\n",
       "      <th>Mode</th>\n",
       "      <td>38</td>\n",
       "      <td>48000</td>\n",
       "    </tr>\n",
       "  </tbody>\n",
       "</table>\n",
       "</div>"
      ],
      "text/plain": [
       "         Age   Salary\n",
       "Mean    38.7  63777.7\n",
       "Median  38.0  62388.5\n",
       "Mode      38    48000"
      ]
     },
     "execution_count": 16,
     "metadata": {},
     "output_type": "execute_result"
    }
   ],
   "source": [
    "Descriptive = pd.DataFrame(index=[\"Mean\",\"Median\",\"Mode\"],columns=quan)\n",
    "for columnname in quan:\n",
    "    Descriptive[columnname][\"Mean\"] = dataset[columnname].mean()\n",
    "    Descriptive[columnname][\"Median\"] = dataset[columnname].median()\n",
    "    Descriptive[columnname][\"Mode\"] = dataset[columnname].mode() [0]\n",
    "Descriptive"
   ]
  },
  {
   "cell_type": "code",
   "execution_count": 21,
   "id": "0f0f0002-d6ff-403b-b49a-4c346d2d4431",
   "metadata": {},
   "outputs": [
    {
     "data": {
      "text/html": [
       "<div>\n",
       "<style scoped>\n",
       "    .dataframe tbody tr th:only-of-type {\n",
       "        vertical-align: middle;\n",
       "    }\n",
       "\n",
       "    .dataframe tbody tr th {\n",
       "        vertical-align: top;\n",
       "    }\n",
       "\n",
       "    .dataframe thead th {\n",
       "        text-align: right;\n",
       "    }\n",
       "</style>\n",
       "<table border=\"1\" class=\"dataframe\">\n",
       "  <thead>\n",
       "    <tr style=\"text-align: right;\">\n",
       "      <th></th>\n",
       "      <th>Age</th>\n",
       "      <th>Salary</th>\n",
       "    </tr>\n",
       "  </thead>\n",
       "  <tbody>\n",
       "    <tr>\n",
       "      <th>count</th>\n",
       "      <td>10.000000</td>\n",
       "      <td>10.000000</td>\n",
       "    </tr>\n",
       "    <tr>\n",
       "      <th>mean</th>\n",
       "      <td>38.700000</td>\n",
       "      <td>63777.700000</td>\n",
       "    </tr>\n",
       "    <tr>\n",
       "      <th>std</th>\n",
       "      <td>7.257946</td>\n",
       "      <td>11564.099408</td>\n",
       "    </tr>\n",
       "    <tr>\n",
       "      <th>min</th>\n",
       "      <td>27.000000</td>\n",
       "      <td>48000.000000</td>\n",
       "    </tr>\n",
       "    <tr>\n",
       "      <th>25%</th>\n",
       "      <td>35.500000</td>\n",
       "      <td>55000.000000</td>\n",
       "    </tr>\n",
       "    <tr>\n",
       "      <th>50%</th>\n",
       "      <td>38.000000</td>\n",
       "      <td>62388.500000</td>\n",
       "    </tr>\n",
       "    <tr>\n",
       "      <th>75%</th>\n",
       "      <td>43.000000</td>\n",
       "      <td>70750.000000</td>\n",
       "    </tr>\n",
       "    <tr>\n",
       "      <th>max</th>\n",
       "      <td>50.000000</td>\n",
       "      <td>83000.000000</td>\n",
       "    </tr>\n",
       "  </tbody>\n",
       "</table>\n",
       "</div>"
      ],
      "text/plain": [
       "             Age        Salary\n",
       "count  10.000000     10.000000\n",
       "mean   38.700000  63777.700000\n",
       "std     7.257946  11564.099408\n",
       "min    27.000000  48000.000000\n",
       "25%    35.500000  55000.000000\n",
       "50%    38.000000  62388.500000\n",
       "75%    43.000000  70750.000000\n",
       "max    50.000000  83000.000000"
      ]
     },
     "execution_count": 21,
     "metadata": {},
     "output_type": "execute_result"
    }
   ],
   "source": [
    "# Percentile\n",
    "\n",
    "dataset.describe()"
   ]
  },
  {
   "cell_type": "code",
   "execution_count": 23,
   "id": "152be87c-9d7b-448f-b324-a787f602c61e",
   "metadata": {},
   "outputs": [
    {
     "data": {
      "text/html": [
       "<div>\n",
       "<style scoped>\n",
       "    .dataframe tbody tr th:only-of-type {\n",
       "        vertical-align: middle;\n",
       "    }\n",
       "\n",
       "    .dataframe tbody tr th {\n",
       "        vertical-align: top;\n",
       "    }\n",
       "\n",
       "    .dataframe thead th {\n",
       "        text-align: right;\n",
       "    }\n",
       "</style>\n",
       "<table border=\"1\" class=\"dataframe\">\n",
       "  <thead>\n",
       "    <tr style=\"text-align: right;\">\n",
       "      <th></th>\n",
       "      <th>Age</th>\n",
       "      <th>Salary</th>\n",
       "    </tr>\n",
       "  </thead>\n",
       "  <tbody>\n",
       "    <tr>\n",
       "      <th>Mean</th>\n",
       "      <td>38.7</td>\n",
       "      <td>63777.7</td>\n",
       "    </tr>\n",
       "    <tr>\n",
       "      <th>Median</th>\n",
       "      <td>38.0</td>\n",
       "      <td>62388.5</td>\n",
       "    </tr>\n",
       "    <tr>\n",
       "      <th>Mode</th>\n",
       "      <td>38</td>\n",
       "      <td>48000</td>\n",
       "    </tr>\n",
       "    <tr>\n",
       "      <th>25%</th>\n",
       "      <td>35.5</td>\n",
       "      <td>55000.0</td>\n",
       "    </tr>\n",
       "    <tr>\n",
       "      <th>50%</th>\n",
       "      <td>38.0</td>\n",
       "      <td>62388.5</td>\n",
       "    </tr>\n",
       "    <tr>\n",
       "      <th>75%</th>\n",
       "      <td>43.0</td>\n",
       "      <td>70750.0</td>\n",
       "    </tr>\n",
       "    <tr>\n",
       "      <th>100%</th>\n",
       "      <td>50.0</td>\n",
       "      <td>83000.0</td>\n",
       "    </tr>\n",
       "  </tbody>\n",
       "</table>\n",
       "</div>"
      ],
      "text/plain": [
       "         Age   Salary\n",
       "Mean    38.7  63777.7\n",
       "Median  38.0  62388.5\n",
       "Mode      38    48000\n",
       "25%     35.5  55000.0\n",
       "50%     38.0  62388.5\n",
       "75%     43.0  70750.0\n",
       "100%    50.0  83000.0"
      ]
     },
     "execution_count": 23,
     "metadata": {},
     "output_type": "execute_result"
    }
   ],
   "source": [
    "Descriptive = pd.DataFrame(index=[\"Mean\",\"Median\",\"Mode\",'25%','50%','75%','100%'],columns=quan)\n",
    "for columnname in quan:\n",
    "    Descriptive[columnname][\"Mean\"] = dataset[columnname].mean()\n",
    "    Descriptive[columnname][\"Median\"] = dataset[columnname].median()\n",
    "    Descriptive[columnname][\"Mode\"] = dataset[columnname].mode() [0]\n",
    "    Descriptive[columnname][\"25%\"] = dataset.describe()[columnname][\"25%\"]\n",
    "    Descriptive[columnname][\"50%\"] = dataset.describe()[columnname][\"50%\"]\n",
    "    Descriptive[columnname][\"75%\"] = dataset.describe()[columnname][\"75%\"]\n",
    "    Descriptive[columnname][\"100%\"] = dataset.describe()[columnname][\"max\"]\n",
    "Descriptive"
   ]
  },
  {
   "cell_type": "code",
   "execution_count": 24,
   "id": "49136a1a-1789-42ac-ae1c-f228954b6ee4",
   "metadata": {},
   "outputs": [],
   "source": [
    "# InterQuatile Range (IQR)\n",
    "\n",
    "descriptive = pd.DataFrame(index=[\"Mean\",\"Median\",\"Mode\",\"25%\",\"50%\",\"75%\",\"100%\",\"IQR\",\"1.5rule\",\"Min\",\"Lesser\",\"Max\",\"Greater\"],columns=quan)\n",
    "for columnname in quan:\n",
    "    descriptive[columnname][\"Mean\"] = dataset[columnname].mean()\n",
    "    descriptive[columnname][\"Median\"] = dataset[columnname].median()\n",
    "    descriptive[columnname][\"Mode\"] = dataset[columnname].mode() [0]\n",
    "    descriptive[columnname][\"25%\"] = dataset.describe()[columnname][\"25%\"]\n",
    "    descriptive[columnname][\"50%\"] = dataset.describe()[columnname][\"50%\"]\n",
    "    descriptive[columnname][\"75%\"] = dataset.describe()[columnname][\"75%\"]\n",
    "    descriptive[columnname][\"100%\"] = dataset.describe()[columnname][\"max\"]\n",
    "    descriptive[columnname][\"IQR\"] = descriptive[columnname][\"75%\"] - descriptive[columnname][\"25%\"]\n",
    "    descriptive[columnname][\"1.5rule\"] = 1.5*descriptive[columnname][\"IQR\"]\n",
    "    descriptive[columnname][\"Min\"] = dataset.describe()[columnname][\"min\"] # take the min value from the dataset\n",
    "    descriptive[columnname][\"Lesser\"] = descriptive[columnname][\"25%\"] - descriptive[columnname][\"1.5rule\"]\n",
    "    descriptive[columnname][\"Max\"] = dataset.describe()[columnname][\"max\"] # take the max value from the dataset\n",
    "    descriptive[columnname][\"Greater\"] = descriptive[columnname][\"75%\"] + descriptive[columnname][\"1.5rule\"]"
   ]
  },
  {
   "cell_type": "code",
   "execution_count": 25,
   "id": "77c4567b-ef3a-4ba6-a6dc-803344b7c3d8",
   "metadata": {},
   "outputs": [
    {
     "data": {
      "text/html": [
       "<div>\n",
       "<style scoped>\n",
       "    .dataframe tbody tr th:only-of-type {\n",
       "        vertical-align: middle;\n",
       "    }\n",
       "\n",
       "    .dataframe tbody tr th {\n",
       "        vertical-align: top;\n",
       "    }\n",
       "\n",
       "    .dataframe thead th {\n",
       "        text-align: right;\n",
       "    }\n",
       "</style>\n",
       "<table border=\"1\" class=\"dataframe\">\n",
       "  <thead>\n",
       "    <tr style=\"text-align: right;\">\n",
       "      <th></th>\n",
       "      <th>Age</th>\n",
       "      <th>Salary</th>\n",
       "    </tr>\n",
       "  </thead>\n",
       "  <tbody>\n",
       "    <tr>\n",
       "      <th>Mean</th>\n",
       "      <td>38.7</td>\n",
       "      <td>63777.7</td>\n",
       "    </tr>\n",
       "    <tr>\n",
       "      <th>Median</th>\n",
       "      <td>38.0</td>\n",
       "      <td>62388.5</td>\n",
       "    </tr>\n",
       "    <tr>\n",
       "      <th>Mode</th>\n",
       "      <td>38</td>\n",
       "      <td>48000</td>\n",
       "    </tr>\n",
       "    <tr>\n",
       "      <th>25%</th>\n",
       "      <td>35.5</td>\n",
       "      <td>55000.0</td>\n",
       "    </tr>\n",
       "    <tr>\n",
       "      <th>50%</th>\n",
       "      <td>38.0</td>\n",
       "      <td>62388.5</td>\n",
       "    </tr>\n",
       "    <tr>\n",
       "      <th>75%</th>\n",
       "      <td>43.0</td>\n",
       "      <td>70750.0</td>\n",
       "    </tr>\n",
       "    <tr>\n",
       "      <th>100%</th>\n",
       "      <td>50.0</td>\n",
       "      <td>83000.0</td>\n",
       "    </tr>\n",
       "    <tr>\n",
       "      <th>IQR</th>\n",
       "      <td>7.5</td>\n",
       "      <td>15750.0</td>\n",
       "    </tr>\n",
       "    <tr>\n",
       "      <th>1.5rule</th>\n",
       "      <td>11.25</td>\n",
       "      <td>23625.0</td>\n",
       "    </tr>\n",
       "    <tr>\n",
       "      <th>Min</th>\n",
       "      <td>27.0</td>\n",
       "      <td>48000.0</td>\n",
       "    </tr>\n",
       "    <tr>\n",
       "      <th>Lesser</th>\n",
       "      <td>24.25</td>\n",
       "      <td>31375.0</td>\n",
       "    </tr>\n",
       "    <tr>\n",
       "      <th>Max</th>\n",
       "      <td>50.0</td>\n",
       "      <td>83000.0</td>\n",
       "    </tr>\n",
       "    <tr>\n",
       "      <th>Greater</th>\n",
       "      <td>54.25</td>\n",
       "      <td>94375.0</td>\n",
       "    </tr>\n",
       "  </tbody>\n",
       "</table>\n",
       "</div>"
      ],
      "text/plain": [
       "           Age   Salary\n",
       "Mean      38.7  63777.7\n",
       "Median    38.0  62388.5\n",
       "Mode        38    48000\n",
       "25%       35.5  55000.0\n",
       "50%       38.0  62388.5\n",
       "75%       43.0  70750.0\n",
       "100%      50.0  83000.0\n",
       "IQR        7.5  15750.0\n",
       "1.5rule  11.25  23625.0\n",
       "Min       27.0  48000.0\n",
       "Lesser   24.25  31375.0\n",
       "Max       50.0  83000.0\n",
       "Greater  54.25  94375.0"
      ]
     },
     "execution_count": 25,
     "metadata": {},
     "output_type": "execute_result"
    }
   ],
   "source": [
    "descriptive"
   ]
  },
  {
   "cell_type": "code",
   "execution_count": 26,
   "id": "4245eb58-9c3e-418d-bd5e-2d0a03c748bb",
   "metadata": {},
   "outputs": [],
   "source": [
    "# Find -> Min > Lesser and Max < Greater"
   ]
  },
  {
   "cell_type": "code",
   "execution_count": 27,
   "id": "cddb90dc-78c3-44de-96fe-f46c05bf6cbd",
   "metadata": {},
   "outputs": [
    {
     "data": {
      "text/plain": [
       "False"
      ]
     },
     "execution_count": 27,
     "metadata": {},
     "output_type": "execute_result"
    }
   ],
   "source": [
    "descriptive[\"Salary\"][\"Min\"] < descriptive[\"Salary\"][\"Lesser\"]"
   ]
  },
  {
   "cell_type": "code",
   "execution_count": 28,
   "id": "4b115660-206d-4979-9fc0-31b7bcf12025",
   "metadata": {},
   "outputs": [],
   "source": [
    "Lesser=[]\n",
    "Greater=[]\n",
    "for columnname in quan:\n",
    "    if(descriptive[columnname][\"Min\"] < descriptive[columnname][\"Lesser\"]):\n",
    "        Lesser.append(columnname)\n",
    "    if(descriptive[columnname][\"Max\"] > descriptive[columnname][\"Greater\"]):\n",
    "        Greater.append(columnname)"
   ]
  },
  {
   "cell_type": "code",
   "execution_count": 29,
   "id": "b9d04b98-7d44-4a4b-b01e-61f88c469c70",
   "metadata": {},
   "outputs": [
    {
     "data": {
      "text/plain": [
       "[]"
      ]
     },
     "execution_count": 29,
     "metadata": {},
     "output_type": "execute_result"
    }
   ],
   "source": [
    "Lesser"
   ]
  },
  {
   "cell_type": "code",
   "execution_count": 30,
   "id": "7aea4122-163e-4e62-b64c-ed2204f3d3ef",
   "metadata": {},
   "outputs": [
    {
     "data": {
      "text/plain": [
       "[]"
      ]
     },
     "execution_count": 30,
     "metadata": {},
     "output_type": "execute_result"
    }
   ],
   "source": [
    "Greater"
   ]
  },
  {
   "cell_type": "code",
   "execution_count": 31,
   "id": "116aea88-99ba-4470-9427-01fabfca4539",
   "metadata": {},
   "outputs": [],
   "source": [
    "# Frequency"
   ]
  },
  {
   "cell_type": "code",
   "execution_count": 33,
   "id": "86b097d2-67c9-42a0-8287-686baf40af2b",
   "metadata": {},
   "outputs": [
    {
     "data": {
      "text/plain": [
       "Salary\n",
       "72000    1\n",
       "48000    1\n",
       "54000    1\n",
       "61000    1\n",
       "63777    1\n",
       "58000    1\n",
       "52000    1\n",
       "79000    1\n",
       "83000    1\n",
       "67000    1\n",
       "Name: count, dtype: int64"
      ]
     },
     "execution_count": 33,
     "metadata": {},
     "output_type": "execute_result"
    }
   ],
   "source": [
    "dataset[\"Salary\"].value_counts()"
   ]
  },
  {
   "cell_type": "code",
   "execution_count": 34,
   "id": "5a51d005-0cca-429d-bdd4-bfe29edbf279",
   "metadata": {},
   "outputs": [
    {
     "data": {
      "text/html": [
       "<div>\n",
       "<style scoped>\n",
       "    .dataframe tbody tr th:only-of-type {\n",
       "        vertical-align: middle;\n",
       "    }\n",
       "\n",
       "    .dataframe tbody tr th {\n",
       "        vertical-align: top;\n",
       "    }\n",
       "\n",
       "    .dataframe thead th {\n",
       "        text-align: right;\n",
       "    }\n",
       "</style>\n",
       "<table border=\"1\" class=\"dataframe\">\n",
       "  <thead>\n",
       "    <tr style=\"text-align: right;\">\n",
       "      <th></th>\n",
       "      <th>Unique_Values</th>\n",
       "      <th>Freq</th>\n",
       "      <th>Related Freq</th>\n",
       "      <th>CumFreq</th>\n",
       "    </tr>\n",
       "  </thead>\n",
       "  <tbody>\n",
       "    <tr>\n",
       "      <th>0</th>\n",
       "      <td>72000</td>\n",
       "      <td>1</td>\n",
       "      <td>0.009709</td>\n",
       "      <td>0.009709</td>\n",
       "    </tr>\n",
       "    <tr>\n",
       "      <th>1</th>\n",
       "      <td>48000</td>\n",
       "      <td>1</td>\n",
       "      <td>0.009709</td>\n",
       "      <td>0.019417</td>\n",
       "    </tr>\n",
       "    <tr>\n",
       "      <th>2</th>\n",
       "      <td>54000</td>\n",
       "      <td>1</td>\n",
       "      <td>0.009709</td>\n",
       "      <td>0.029126</td>\n",
       "    </tr>\n",
       "    <tr>\n",
       "      <th>3</th>\n",
       "      <td>61000</td>\n",
       "      <td>1</td>\n",
       "      <td>0.009709</td>\n",
       "      <td>0.038835</td>\n",
       "    </tr>\n",
       "    <tr>\n",
       "      <th>4</th>\n",
       "      <td>63777</td>\n",
       "      <td>1</td>\n",
       "      <td>0.009709</td>\n",
       "      <td>0.048544</td>\n",
       "    </tr>\n",
       "    <tr>\n",
       "      <th>5</th>\n",
       "      <td>58000</td>\n",
       "      <td>1</td>\n",
       "      <td>0.009709</td>\n",
       "      <td>0.058252</td>\n",
       "    </tr>\n",
       "    <tr>\n",
       "      <th>6</th>\n",
       "      <td>52000</td>\n",
       "      <td>1</td>\n",
       "      <td>0.009709</td>\n",
       "      <td>0.067961</td>\n",
       "    </tr>\n",
       "    <tr>\n",
       "      <th>7</th>\n",
       "      <td>79000</td>\n",
       "      <td>1</td>\n",
       "      <td>0.009709</td>\n",
       "      <td>0.077670</td>\n",
       "    </tr>\n",
       "    <tr>\n",
       "      <th>8</th>\n",
       "      <td>83000</td>\n",
       "      <td>1</td>\n",
       "      <td>0.009709</td>\n",
       "      <td>0.087379</td>\n",
       "    </tr>\n",
       "    <tr>\n",
       "      <th>9</th>\n",
       "      <td>67000</td>\n",
       "      <td>1</td>\n",
       "      <td>0.009709</td>\n",
       "      <td>0.097087</td>\n",
       "    </tr>\n",
       "  </tbody>\n",
       "</table>\n",
       "</div>"
      ],
      "text/plain": [
       "   Unique_Values  Freq  Related Freq   CumFreq\n",
       "0          72000     1      0.009709  0.009709\n",
       "1          48000     1      0.009709  0.019417\n",
       "2          54000     1      0.009709  0.029126\n",
       "3          61000     1      0.009709  0.038835\n",
       "4          63777     1      0.009709  0.048544\n",
       "5          58000     1      0.009709  0.058252\n",
       "6          52000     1      0.009709  0.067961\n",
       "7          79000     1      0.009709  0.077670\n",
       "8          83000     1      0.009709  0.087379\n",
       "9          67000     1      0.009709  0.097087"
      ]
     },
     "execution_count": 34,
     "metadata": {},
     "output_type": "execute_result"
    }
   ],
   "source": [
    "def Frequency (columnname):\n",
    "    Frequency = pd.DataFrame(columns=[\"Unique_Values\",\"Freq\",\"Related Freq\",\"CumFreq\"])\n",
    "    Frequency[\"Unique_Values\"] = dataset[columnname].value_counts().index\n",
    "    Frequency[\"Freq\"] = dataset[columnname].value_counts().values\n",
    "    Frequency[\"Related Freq\"] = Frequency[\"Freq\"]/103\n",
    "    Frequency[\"CumFreq\"] = Frequency[\"Related Freq\"].cumsum()\n",
    "    return Frequency\n",
    "Frequency (columnname)"
   ]
  },
  {
   "cell_type": "code",
   "execution_count": 35,
   "id": "ebf90ffc-5cf4-470c-a8c3-d8de19e7fe43",
   "metadata": {},
   "outputs": [],
   "source": [
    "# Skewness & Kurtosis"
   ]
  },
  {
   "cell_type": "code",
   "execution_count": 39,
   "id": "29e685e3-5c82-4b4e-be2e-1a47eb84cff4",
   "metadata": {},
   "outputs": [
    {
     "data": {
      "text/plain": [
       "0.40493769514056543"
      ]
     },
     "execution_count": 39,
     "metadata": {},
     "output_type": "execute_result"
    }
   ],
   "source": [
    "dataset[\"Salary\"].skew()"
   ]
  },
  {
   "cell_type": "code",
   "execution_count": 38,
   "id": "d9965f0d-b8cf-4473-9cd8-ef5479dcb734",
   "metadata": {},
   "outputs": [
    {
     "data": {
      "text/plain": [
       "-0.8436614644615896"
      ]
     },
     "execution_count": 38,
     "metadata": {},
     "output_type": "execute_result"
    }
   ],
   "source": [
    "dataset[\"Salary\"].kurtosis()"
   ]
  },
  {
   "cell_type": "code",
   "execution_count": 40,
   "id": "53f4352c-b4ef-436d-a682-5569e6b9e0c2",
   "metadata": {},
   "outputs": [],
   "source": [
    "def Sknewss_Kurtosis(descriptive):\n",
    "    descriptive = pd.DataFrame(index=[\"Mean\",\"Median\",\"Mode\",\"25%\",\"50%\",\"75%\",\"100%\",\"IQR\",\"1.5rule\",\"Min\",\"Lesser\",\"Max\",\"Greater\",\"Skew\",\"Kurt\"],columns=quan)\n",
    "    for columnname in quan:\n",
    "        descriptive[columnname][\"Mean\"] = dataset[columnname].mean()\n",
    "        descriptive[columnname][\"Median\"] = dataset[columnname].median()\n",
    "        descriptive[columnname][\"Mode\"] = dataset[columnname].mode() [0]\n",
    "        descriptive[columnname][\"25%\"] = dataset.describe()[columnname][\"25%\"]\n",
    "        descriptive[columnname][\"50%\"] = dataset.describe()[columnname][\"50%\"]\n",
    "        descriptive[columnname][\"75%\"] = dataset.describe()[columnname][\"75%\"]\n",
    "        descriptive[columnname][\"100%\"] = dataset.describe()[columnname][\"max\"]\n",
    "        descriptive[columnname][\"IQR\"] = descriptive[columnname][\"75%\"] - descriptive[columnname][\"25%\"]\n",
    "        descriptive[columnname][\"1.5rule\"] = 1.5*descriptive[columnname][\"IQR\"]\n",
    "        descriptive[columnname][\"Min\"] = dataset.describe()[columnname][\"min\"] # take the min value from the dataset\n",
    "        descriptive[columnname][\"Lesser\"] = descriptive[columnname][\"25%\"] - descriptive[columnname][\"1.5rule\"]\n",
    "        descriptive[columnname][\"Max\"] = dataset.describe()[columnname][\"max\"] # take the max value from the dataset\n",
    "        descriptive[columnname][\"Greater\"] = descriptive[columnname][\"75%\"] + descriptive[columnname][\"1.5rule\"]\n",
    "        descriptive[columnname][\"Skew\"] = descriptive[columnname].skew()\n",
    "        descriptive[columnname][\"Kurt\"] = descriptive[columnname].kurtosis()\n",
    "    return descriptive"
   ]
  },
  {
   "cell_type": "code",
   "execution_count": 42,
   "id": "81d8bc22-bbe4-4a89-a29d-9dd8330ad0f9",
   "metadata": {},
   "outputs": [
    {
     "data": {
      "text/html": [
       "<div>\n",
       "<style scoped>\n",
       "    .dataframe tbody tr th:only-of-type {\n",
       "        vertical-align: middle;\n",
       "    }\n",
       "\n",
       "    .dataframe tbody tr th {\n",
       "        vertical-align: top;\n",
       "    }\n",
       "\n",
       "    .dataframe thead th {\n",
       "        text-align: right;\n",
       "    }\n",
       "</style>\n",
       "<table border=\"1\" class=\"dataframe\">\n",
       "  <thead>\n",
       "    <tr style=\"text-align: right;\">\n",
       "      <th></th>\n",
       "      <th>Age</th>\n",
       "      <th>Salary</th>\n",
       "    </tr>\n",
       "  </thead>\n",
       "  <tbody>\n",
       "    <tr>\n",
       "      <th>Mean</th>\n",
       "      <td>38.7</td>\n",
       "      <td>63777.7</td>\n",
       "    </tr>\n",
       "    <tr>\n",
       "      <th>Median</th>\n",
       "      <td>38.0</td>\n",
       "      <td>62388.5</td>\n",
       "    </tr>\n",
       "    <tr>\n",
       "      <th>Mode</th>\n",
       "      <td>38</td>\n",
       "      <td>48000</td>\n",
       "    </tr>\n",
       "    <tr>\n",
       "      <th>25%</th>\n",
       "      <td>35.5</td>\n",
       "      <td>55000.0</td>\n",
       "    </tr>\n",
       "    <tr>\n",
       "      <th>50%</th>\n",
       "      <td>38.0</td>\n",
       "      <td>62388.5</td>\n",
       "    </tr>\n",
       "    <tr>\n",
       "      <th>75%</th>\n",
       "      <td>43.0</td>\n",
       "      <td>70750.0</td>\n",
       "    </tr>\n",
       "    <tr>\n",
       "      <th>100%</th>\n",
       "      <td>50.0</td>\n",
       "      <td>83000.0</td>\n",
       "    </tr>\n",
       "    <tr>\n",
       "      <th>IQR</th>\n",
       "      <td>7.5</td>\n",
       "      <td>15750.0</td>\n",
       "    </tr>\n",
       "    <tr>\n",
       "      <th>1.5rule</th>\n",
       "      <td>11.25</td>\n",
       "      <td>23625.0</td>\n",
       "    </tr>\n",
       "    <tr>\n",
       "      <th>Min</th>\n",
       "      <td>27.0</td>\n",
       "      <td>48000.0</td>\n",
       "    </tr>\n",
       "    <tr>\n",
       "      <th>Lesser</th>\n",
       "      <td>24.25</td>\n",
       "      <td>31375.0</td>\n",
       "    </tr>\n",
       "    <tr>\n",
       "      <th>Max</th>\n",
       "      <td>50.0</td>\n",
       "      <td>83000.0</td>\n",
       "    </tr>\n",
       "    <tr>\n",
       "      <th>Greater</th>\n",
       "      <td>54.25</td>\n",
       "      <td>94375.0</td>\n",
       "    </tr>\n",
       "    <tr>\n",
       "      <th>Skew</th>\n",
       "      <td>-0.74282</td>\n",
       "      <td>-0.267963</td>\n",
       "    </tr>\n",
       "    <tr>\n",
       "      <th>Kurt</th>\n",
       "      <td>-0.284641</td>\n",
       "      <td>-0.446819</td>\n",
       "    </tr>\n",
       "  </tbody>\n",
       "</table>\n",
       "</div>"
      ],
      "text/plain": [
       "              Age    Salary\n",
       "Mean         38.7   63777.7\n",
       "Median       38.0   62388.5\n",
       "Mode           38     48000\n",
       "25%          35.5   55000.0\n",
       "50%          38.0   62388.5\n",
       "75%          43.0   70750.0\n",
       "100%         50.0   83000.0\n",
       "IQR           7.5   15750.0\n",
       "1.5rule     11.25   23625.0\n",
       "Min          27.0   48000.0\n",
       "Lesser      24.25   31375.0\n",
       "Max          50.0   83000.0\n",
       "Greater     54.25   94375.0\n",
       "Skew     -0.74282 -0.267963\n",
       "Kurt    -0.284641 -0.446819"
      ]
     },
     "execution_count": 42,
     "metadata": {},
     "output_type": "execute_result"
    }
   ],
   "source": [
    "Sknewss_Kurtosis(descriptive)"
   ]
  },
  {
   "cell_type": "code",
   "execution_count": 43,
   "id": "39abed13-42f8-4649-b5ea-3706e81d675c",
   "metadata": {},
   "outputs": [],
   "source": [
    "# Variance & Deviation"
   ]
  },
  {
   "cell_type": "code",
   "execution_count": 45,
   "id": "0ee7418f-2c73-409c-af8c-230542d3ddd4",
   "metadata": {},
   "outputs": [
    {
     "data": {
      "text/plain": [
       "133728395.12222221"
      ]
     },
     "execution_count": 45,
     "metadata": {},
     "output_type": "execute_result"
    }
   ],
   "source": [
    "dataset[\"Salary\"].var()"
   ]
  },
  {
   "cell_type": "code",
   "execution_count": 46,
   "id": "41ff9054-e6dc-487d-b679-f1e2633e55b4",
   "metadata": {},
   "outputs": [
    {
     "data": {
      "text/plain": [
       "11564.099408177975"
      ]
     },
     "execution_count": 46,
     "metadata": {},
     "output_type": "execute_result"
    }
   ],
   "source": [
    "dataset[\"Salary\"].std()"
   ]
  },
  {
   "cell_type": "code",
   "execution_count": 47,
   "id": "fb72d76a-d0b4-403d-a39c-4a2d104ca978",
   "metadata": {},
   "outputs": [
    {
     "data": {
      "text/html": [
       "<div>\n",
       "<style scoped>\n",
       "    .dataframe tbody tr th:only-of-type {\n",
       "        vertical-align: middle;\n",
       "    }\n",
       "\n",
       "    .dataframe tbody tr th {\n",
       "        vertical-align: top;\n",
       "    }\n",
       "\n",
       "    .dataframe thead th {\n",
       "        text-align: right;\n",
       "    }\n",
       "</style>\n",
       "<table border=\"1\" class=\"dataframe\">\n",
       "  <thead>\n",
       "    <tr style=\"text-align: right;\">\n",
       "      <th></th>\n",
       "      <th>Age</th>\n",
       "      <th>Salary</th>\n",
       "    </tr>\n",
       "  </thead>\n",
       "  <tbody>\n",
       "    <tr>\n",
       "      <th>Mean</th>\n",
       "      <td>38.7</td>\n",
       "      <td>63777.7</td>\n",
       "    </tr>\n",
       "    <tr>\n",
       "      <th>Median</th>\n",
       "      <td>38.0</td>\n",
       "      <td>62388.5</td>\n",
       "    </tr>\n",
       "    <tr>\n",
       "      <th>Mode</th>\n",
       "      <td>38</td>\n",
       "      <td>48000</td>\n",
       "    </tr>\n",
       "    <tr>\n",
       "      <th>25%</th>\n",
       "      <td>35.5</td>\n",
       "      <td>55000.0</td>\n",
       "    </tr>\n",
       "    <tr>\n",
       "      <th>50%</th>\n",
       "      <td>38.0</td>\n",
       "      <td>62388.5</td>\n",
       "    </tr>\n",
       "    <tr>\n",
       "      <th>75%</th>\n",
       "      <td>43.0</td>\n",
       "      <td>70750.0</td>\n",
       "    </tr>\n",
       "    <tr>\n",
       "      <th>100%</th>\n",
       "      <td>50.0</td>\n",
       "      <td>83000.0</td>\n",
       "    </tr>\n",
       "    <tr>\n",
       "      <th>IQR</th>\n",
       "      <td>7.5</td>\n",
       "      <td>15750.0</td>\n",
       "    </tr>\n",
       "    <tr>\n",
       "      <th>1.5rule</th>\n",
       "      <td>11.25</td>\n",
       "      <td>23625.0</td>\n",
       "    </tr>\n",
       "    <tr>\n",
       "      <th>Min</th>\n",
       "      <td>27.0</td>\n",
       "      <td>48000.0</td>\n",
       "    </tr>\n",
       "    <tr>\n",
       "      <th>Lesser</th>\n",
       "      <td>24.25</td>\n",
       "      <td>31375.0</td>\n",
       "    </tr>\n",
       "    <tr>\n",
       "      <th>Max</th>\n",
       "      <td>50.0</td>\n",
       "      <td>83000.0</td>\n",
       "    </tr>\n",
       "    <tr>\n",
       "      <th>Greater</th>\n",
       "      <td>54.25</td>\n",
       "      <td>94375.0</td>\n",
       "    </tr>\n",
       "    <tr>\n",
       "      <th>Skew</th>\n",
       "      <td>-0.74282</td>\n",
       "      <td>-0.267963</td>\n",
       "    </tr>\n",
       "    <tr>\n",
       "      <th>Kurt</th>\n",
       "      <td>-0.284641</td>\n",
       "      <td>-0.446819</td>\n",
       "    </tr>\n",
       "    <tr>\n",
       "      <th>Var</th>\n",
       "      <td>329.70386</td>\n",
       "      <td>879874696.352632</td>\n",
       "    </tr>\n",
       "    <tr>\n",
       "      <th>Std</th>\n",
       "      <td>76.880321</td>\n",
       "      <td>219956318.805176</td>\n",
       "    </tr>\n",
       "  </tbody>\n",
       "</table>\n",
       "</div>"
      ],
      "text/plain": [
       "               Age            Salary\n",
       "Mean          38.7           63777.7\n",
       "Median        38.0           62388.5\n",
       "Mode            38             48000\n",
       "25%           35.5           55000.0\n",
       "50%           38.0           62388.5\n",
       "75%           43.0           70750.0\n",
       "100%          50.0           83000.0\n",
       "IQR            7.5           15750.0\n",
       "1.5rule      11.25           23625.0\n",
       "Min           27.0           48000.0\n",
       "Lesser       24.25           31375.0\n",
       "Max           50.0           83000.0\n",
       "Greater      54.25           94375.0\n",
       "Skew      -0.74282         -0.267963\n",
       "Kurt     -0.284641         -0.446819\n",
       "Var      329.70386  879874696.352632\n",
       "Std      76.880321  219956318.805176"
      ]
     },
     "execution_count": 47,
     "metadata": {},
     "output_type": "execute_result"
    }
   ],
   "source": [
    "def Variance_Deviation(descriptive):\n",
    "    descriptive = pd.DataFrame(index=[\"Mean\",\"Median\",\"Mode\",\"25%\",\"50%\",\"75%\",\"100%\",\"IQR\",\"1.5rule\",\"Min\",\"Lesser\",\"Max\",\"Greater\",\"Skew\",\"Kurt\",\"Var\",\"Std\"],columns=quan)\n",
    "    for columnname in quan:\n",
    "        descriptive[columnname][\"Mean\"] = dataset[columnname].mean()\n",
    "        descriptive[columnname][\"Median\"] = dataset[columnname].median()\n",
    "        descriptive[columnname][\"Mode\"] = dataset[columnname].mode() [0]\n",
    "        descriptive[columnname][\"25%\"] = dataset.describe()[columnname][\"25%\"]\n",
    "        descriptive[columnname][\"50%\"] = dataset.describe()[columnname][\"50%\"]\n",
    "        descriptive[columnname][\"75%\"] = dataset.describe()[columnname][\"75%\"]\n",
    "        descriptive[columnname][\"100%\"] = dataset.describe()[columnname][\"max\"]\n",
    "        descriptive[columnname][\"IQR\"] = descriptive[columnname][\"75%\"] - descriptive[columnname][\"25%\"]\n",
    "        descriptive[columnname][\"1.5rule\"] = 1.5*descriptive[columnname][\"IQR\"]\n",
    "        descriptive[columnname][\"Min\"] = dataset.describe()[columnname][\"min\"] # take the min value from the dataset\n",
    "        descriptive[columnname][\"Lesser\"] = descriptive[columnname][\"25%\"] - descriptive[columnname][\"1.5rule\"]\n",
    "        descriptive[columnname][\"Max\"] = dataset.describe()[columnname][\"max\"] # take the max value from the dataset\n",
    "        descriptive[columnname][\"Greater\"] = descriptive[columnname][\"75%\"] + descriptive[columnname][\"1.5rule\"]\n",
    "        descriptive[columnname][\"Skew\"] = descriptive[columnname].skew()\n",
    "        descriptive[columnname][\"Kurt\"] = descriptive[columnname].kurtosis()\n",
    "        descriptive[columnname][\"Var\"] = descriptive[columnname].var()\n",
    "        descriptive[columnname][\"Std\"] = descriptive[columnname].std()\n",
    "    return descriptive\n",
    "\n",
    "Variance_Deviation(descriptive)"
   ]
  },
  {
   "cell_type": "code",
   "execution_count": 49,
   "id": "de5640cc-8cb0-4031-bff8-0f20296051d7",
   "metadata": {},
   "outputs": [
    {
     "data": {
      "text/plain": [
       "<Axes: xlabel='Salary', ylabel='Density'>"
      ]
     },
     "execution_count": 49,
     "metadata": {},
     "output_type": "execute_result"
    },
    {
     "data": {
      "image/png": "[encoded data removed]",
      "text/plain": [
       "<Figure size 640x480 with 1 Axes>"
      ]
     },
     "metadata": {},
     "output_type": "display_data"
    }
   ],
   "source": [
    "# Normal Distribution\n",
    "\n",
    "# Seaborn library used for graph\n",
    "import seaborn as sea\n",
    "sea.distplot(dataset[\"Salary\"])"
   ]
  },
  {
   "cell_type": "code",
   "execution_count": 50,
   "id": "aab322e3-631b-429a-84a8-c8248e36c3f8",
   "metadata": {},
   "outputs": [],
   "source": [
    "def get_pdf_probability(dataset,startrange,endrange):\n",
    "    from matplotlib import pyplot\n",
    "    from scipy.stats import norm\n",
    "    import seaborn as sea\n",
    "    ax = sea.distplot(dataset,kde=True,kde_kws={'color':'blue'},color='Green')\n",
    "    pyplot.axvline(startrange,color='Red')\n",
    "    pyplot.axvline(endrange,color='Red')\n",
    "    #generate sample\n",
    "    sample = dataset\n",
    "    #calculate parameters\n",
    "    sample_mean = sample.mean()\n",
    "    sample_std = sample.std()\n",
    "    print('Mean=%.3f, Standard Deviation=%.3f' % (sample_mean, sample_std))\n",
    "    #define the distibution\n",
    "    dist = norm(sample_mean, sample_std)\n",
    "    \n",
    "    # sample probability for a range of outcomes\n",
    "    values = np.arange(startrange,endrange,0.1)\n",
    "    probability = [dist.pdf(value) for value in values]\n",
    "    prob = sum(probability)\n",
    "    print(\"The are between range ({},{}):{}\".format(startrange,endrange,sum(probability)))\n",
    "    return prob"
   ]
  },
  {
   "cell_type": "code",
   "execution_count": 52,
   "id": "6c70b6fd-516a-42a5-840b-096404966804",
   "metadata": {},
   "outputs": [
    {
     "name": "stdout",
     "output_type": "stream",
     "text": [
      "Mean=63777.700, Standard Deviation=11564.099\n",
      "The are between range (50000,70000):5.879907834755314\n"
     ]
    },
    {
     "data": {
      "text/plain": [
       "5.879907834755314"
      ]
     },
     "execution_count": 52,
     "metadata": {},
     "output_type": "execute_result"
    },
    {
     "data": {
      "image/png": "[encoded data removed]",
      "text/plain": [
       "<Figure size 640x480 with 1 Axes>"
      ]
     },
     "metadata": {},
     "output_type": "display_data"
    }
   ],
   "source": [
    "get_pdf_probability(dataset[\"Salary\"],50000,70000)"
   ]
  },
  {
   "cell_type": "code",
   "execution_count": 53,
   "id": "5339f894-bc4d-44f5-b738-e80ece3801cc",
   "metadata": {},
   "outputs": [],
   "source": [
    "# Cumulative Density Function"
   ]
  },
  {
   "cell_type": "code",
   "execution_count": 58,
   "id": "e1506fb0-350c-4587-b2fd-047bbdede6b3",
   "metadata": {},
   "outputs": [
    {
     "ename": "ModuleNotFoundError",
     "evalue": "No module named 'statsmodels.distribution'",
     "output_type": "error",
     "traceback": [
      "\u001b[31m---------------------------------------------------------------------------\u001b[39m",
      "\u001b[31mModuleNotFoundError\u001b[39m                       Traceback (most recent call last)",
      "\u001b[36mCell\u001b[39m\u001b[36m \u001b[39m\u001b[32mIn[58]\u001b[39m\u001b[32m, line 1\u001b[39m\n\u001b[32m----> \u001b[39m\u001b[32m1\u001b[39m \u001b[38;5;28;01mfrom\u001b[39;00m\u001b[38;5;250m \u001b[39m\u001b[34;01mstatsmodels\u001b[39;00m\u001b[34;01m.\u001b[39;00m\u001b[34;01mdistribution\u001b[39;00m\u001b[34;01m.\u001b[39;00m\u001b[34;01mempirical_disribution\u001b[39;00m\u001b[38;5;250m \u001b[39m\u001b[38;5;28;01mimport\u001b[39;00m ECDF\n\u001b[32m      2\u001b[39m ecdf = ECDF(dataset[\u001b[33m\"\u001b[39m\u001b[33mSalary\u001b[39m\u001b[33m\"\u001b[39m])\n\u001b[32m      3\u001b[39m ecdf\n",
      "\u001b[31mModuleNotFoundError\u001b[39m: No module named 'statsmodels.distribution'"
     ]
    }
   ],
   "source": [
    "from statsmodels.distribution.empirical_disribution import ECDF\n",
    "ecdf = ECDF(dataset[\"Salary\"])\n",
    "ecdf"
   ]
  },
  {
   "cell_type": "code",
   "execution_count": 55,
   "id": "e73fa134-66c8-4118-89fd-a1449c0cbf7b",
   "metadata": {},
   "outputs": [
    {
     "name": "stdout",
     "output_type": "stream",
     "text": [
      "Requirement already satisfied: statsmodels in c:\\users\\venka\\anaconda3\\envs\\aiml\\lib\\site-packages (0.14.4)\n",
      "Requirement already satisfied: numpy<3,>=1.22.3 in c:\\users\\venka\\anaconda3\\envs\\aiml\\lib\\site-packages (from statsmodels) (1.26.4)\n",
      "Requirement already satisfied: scipy!=1.9.2,>=1.8 in c:\\users\\venka\\anaconda3\\envs\\aiml\\lib\\site-packages (from statsmodels) (1.15.2)\n",
      "Requirement already satisfied: pandas!=2.1.0,>=1.4 in c:\\users\\venka\\anaconda3\\envs\\aiml\\lib\\site-packages (from statsmodels) (2.2.2)\n",
      "Requirement already satisfied: patsy>=0.5.6 in c:\\users\\venka\\anaconda3\\envs\\aiml\\lib\\site-packages (from statsmodels) (1.0.1)\n",
      "Requirement already satisfied: packaging>=21.3 in c:\\users\\venka\\anaconda3\\envs\\aiml\\lib\\site-packages (from statsmodels) (25.0)\n",
      "Requirement already satisfied: python-dateutil>=2.8.2 in c:\\users\\venka\\anaconda3\\envs\\aiml\\lib\\site-packages (from pandas!=2.1.0,>=1.4->statsmodels) (2.9.0.post0)\n",
      "Requirement already satisfied: pytz>=2020.1 in c:\\users\\venka\\anaconda3\\envs\\aiml\\lib\\site-packages (from pandas!=2.1.0,>=1.4->statsmodels) (2025.2)\n",
      "Requirement already satisfied: tzdata>=2022.7 in c:\\users\\venka\\anaconda3\\envs\\aiml\\lib\\site-packages (from pandas!=2.1.0,>=1.4->statsmodels) (2025.2)\n",
      "Requirement already satisfied: six>=1.5 in c:\\users\\venka\\anaconda3\\envs\\aiml\\lib\\site-packages (from python-dateutil>=2.8.2->pandas!=2.1.0,>=1.4->statsmodels) (1.17.0)\n"
     ]
    }
   ],
   "source": [
    "#!pip install statsmodels"
   ]
  },
  {
   "cell_type": "code",
   "execution_count": 57,
   "id": "08060a84-3e1e-440f-ab77-dbf9e9ae25da",
   "metadata": {},
   "outputs": [
    {
     "data": {
      "text/plain": [
       "0.9"
      ]
     },
     "execution_count": 57,
     "metadata": {},
     "output_type": "execute_result"
    }
   ],
   "source": [
    "from statsmodels.distributions.empirical_distribution import ECDF\n",
    "ecdf = ECDF(dataset[\"Salary\"])\n",
    "ecdf(80000)"
   ]
  },
  {
   "cell_type": "code",
   "execution_count": 59,
   "id": "28c13031-d766-4013-ad6c-83d3e60c9440",
   "metadata": {},
   "outputs": [],
   "source": [
    "# Standard Normal Deviation"
   ]
  },
  {
   "cell_type": "code",
   "execution_count": 60,
   "id": "3ebee0e3-a3b7-4f7e-b95f-d2becac7911f",
   "metadata": {},
   "outputs": [],
   "source": [
    "def SND(dataset):\n",
    "    import seaborn as sea\n",
    "    mean = dataset.mean()\n",
    "    std = dataset.std()\n",
    "    values =[i for i in dataset]\n",
    "    z_score = [((x-mean)/std) for x in values]\n",
    "    sea.distplot(z_score,kde=True)"
   ]
  },
  {
   "cell_type": "code",
   "execution_count": 61,
   "id": "54007b00-f2ec-4f0e-90f2-1887acf4dbe3",
   "metadata": {},
   "outputs": [
    {
     "data": {
      "image/png": "[encoded data removed]",
      "text/plain": [
       "<Figure size 640x480 with 1 Axes>"
      ]
     },
     "metadata": {},
     "output_type": "display_data"
    }
   ],
   "source": [
    "SND(dataset[\"Salary\"])"
   ]
  },
  {
   "cell_type": "code",
   "execution_count": 1,
   "id": "cd04ec3d-1675-4129-ad9d-f1e5a6141a6e",
   "metadata": {},
   "outputs": [],
   "source": [
    "# Future K Selection"
   ]
  },
  {
   "cell_type": "code",
   "execution_count": null,
   "id": "33df6a55-101d-471c-8feb-8a4925391884",
   "metadata": {},
   "outputs": [],
   "source": [
    "from sklearn.feature_selection import SelectKBest\n",
    "def selectkbest(inp,out,n):\n",
    "        test = SelectKBest(score_func=chi2, k=n)\n",
    "        fit1= test.fit(inp,out)\n",
    "        selectk_features = fit1.transform(inp)\n",
    "        return selectk_features"
   ]
  }
 ],
 "metadata": {
  "kernelspec": {
   "display_name": "Python 3 (ipykernel)",
   "language": "python",
   "name": "python3"
  },
  "language_info": {
   "codemirror_mode": {
    "name": "ipython",
    "version": 3
   },
   "file_extension": ".py",
   "mimetype": "text/x-python",
   "name": "python",
   "nbconvert_exporter": "python",
   "pygments_lexer": "ipython3",
   "version": "3.11.5"
  }
 },
 "nbformat": 4,
 "nbformat_minor": 5
}
