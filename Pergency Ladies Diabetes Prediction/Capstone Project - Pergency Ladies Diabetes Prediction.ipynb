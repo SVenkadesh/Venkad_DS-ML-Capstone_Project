{
 "cells": [
  {
   "cell_type": "code",
   "execution_count": 1,
   "id": "cd3191f6-b594-4098-8d3b-7884f1ca19ed",
   "metadata": {},
   "outputs": [],
   "source": [
    "# Import neccessary Libraries\n",
    "import pandas as pd\n",
    "import numpy as np\n",
    "import matplotlib.pyplot as plt\n",
    "import seaborn as sea\n",
    "from sklearn.feature_selection import chi2\n",
    "import warnings\n",
    "warnings.filterwarnings(\"ignore\")"
   ]
  },
  {
   "cell_type": "code",
   "execution_count": 2,
   "id": "3f958ca5-0802-4dbe-a375-0f8175ae1a00",
   "metadata": {},
   "outputs": [
    {
     "data": {
      "text/html": [
       "<div>\n",
       "<style scoped>\n",
       "    .dataframe tbody tr th:only-of-type {\n",
       "        vertical-align: middle;\n",
       "    }\n",
       "\n",
       "    .dataframe tbody tr th {\n",
       "        vertical-align: top;\n",
       "    }\n",
       "\n",
       "    .dataframe thead th {\n",
       "        text-align: right;\n",
       "    }\n",
       "</style>\n",
       "<table border=\"1\" class=\"dataframe\">\n",
       "  <thead>\n",
       "    <tr style=\"text-align: right;\">\n",
       "      <th></th>\n",
       "      <th>Pregnancies</th>\n",
       "      <th>Glucose</th>\n",
       "      <th>BloodPressure</th>\n",
       "      <th>SkinThickness</th>\n",
       "      <th>Insulin</th>\n",
       "      <th>BMI</th>\n",
       "      <th>DiabetesPedigreeFunction</th>\n",
       "      <th>Age</th>\n",
       "      <th>Outcome</th>\n",
       "    </tr>\n",
       "  </thead>\n",
       "  <tbody>\n",
       "    <tr>\n",
       "      <th>0</th>\n",
       "      <td>6</td>\n",
       "      <td>148</td>\n",
       "      <td>72</td>\n",
       "      <td>35</td>\n",
       "      <td>0</td>\n",
       "      <td>33.6</td>\n",
       "      <td>0.627</td>\n",
       "      <td>50</td>\n",
       "      <td>1</td>\n",
       "    </tr>\n",
       "    <tr>\n",
       "      <th>1</th>\n",
       "      <td>1</td>\n",
       "      <td>85</td>\n",
       "      <td>66</td>\n",
       "      <td>29</td>\n",
       "      <td>0</td>\n",
       "      <td>26.6</td>\n",
       "      <td>0.351</td>\n",
       "      <td>31</td>\n",
       "      <td>0</td>\n",
       "    </tr>\n",
       "    <tr>\n",
       "      <th>2</th>\n",
       "      <td>8</td>\n",
       "      <td>183</td>\n",
       "      <td>64</td>\n",
       "      <td>0</td>\n",
       "      <td>0</td>\n",
       "      <td>23.3</td>\n",
       "      <td>0.672</td>\n",
       "      <td>32</td>\n",
       "      <td>1</td>\n",
       "    </tr>\n",
       "    <tr>\n",
       "      <th>3</th>\n",
       "      <td>1</td>\n",
       "      <td>89</td>\n",
       "      <td>66</td>\n",
       "      <td>23</td>\n",
       "      <td>94</td>\n",
       "      <td>28.1</td>\n",
       "      <td>0.167</td>\n",
       "      <td>21</td>\n",
       "      <td>0</td>\n",
       "    </tr>\n",
       "    <tr>\n",
       "      <th>4</th>\n",
       "      <td>0</td>\n",
       "      <td>137</td>\n",
       "      <td>40</td>\n",
       "      <td>35</td>\n",
       "      <td>168</td>\n",
       "      <td>43.1</td>\n",
       "      <td>2.288</td>\n",
       "      <td>33</td>\n",
       "      <td>1</td>\n",
       "    </tr>\n",
       "    <tr>\n",
       "      <th>...</th>\n",
       "      <td>...</td>\n",
       "      <td>...</td>\n",
       "      <td>...</td>\n",
       "      <td>...</td>\n",
       "      <td>...</td>\n",
       "      <td>...</td>\n",
       "      <td>...</td>\n",
       "      <td>...</td>\n",
       "      <td>...</td>\n",
       "    </tr>\n",
       "    <tr>\n",
       "      <th>763</th>\n",
       "      <td>10</td>\n",
       "      <td>101</td>\n",
       "      <td>76</td>\n",
       "      <td>48</td>\n",
       "      <td>180</td>\n",
       "      <td>32.9</td>\n",
       "      <td>0.171</td>\n",
       "      <td>63</td>\n",
       "      <td>0</td>\n",
       "    </tr>\n",
       "    <tr>\n",
       "      <th>764</th>\n",
       "      <td>2</td>\n",
       "      <td>122</td>\n",
       "      <td>70</td>\n",
       "      <td>27</td>\n",
       "      <td>0</td>\n",
       "      <td>36.8</td>\n",
       "      <td>0.340</td>\n",
       "      <td>27</td>\n",
       "      <td>0</td>\n",
       "    </tr>\n",
       "    <tr>\n",
       "      <th>765</th>\n",
       "      <td>5</td>\n",
       "      <td>121</td>\n",
       "      <td>72</td>\n",
       "      <td>23</td>\n",
       "      <td>112</td>\n",
       "      <td>26.2</td>\n",
       "      <td>0.245</td>\n",
       "      <td>30</td>\n",
       "      <td>0</td>\n",
       "    </tr>\n",
       "    <tr>\n",
       "      <th>766</th>\n",
       "      <td>1</td>\n",
       "      <td>126</td>\n",
       "      <td>60</td>\n",
       "      <td>0</td>\n",
       "      <td>0</td>\n",
       "      <td>30.1</td>\n",
       "      <td>0.349</td>\n",
       "      <td>47</td>\n",
       "      <td>1</td>\n",
       "    </tr>\n",
       "    <tr>\n",
       "      <th>767</th>\n",
       "      <td>1</td>\n",
       "      <td>93</td>\n",
       "      <td>70</td>\n",
       "      <td>31</td>\n",
       "      <td>0</td>\n",
       "      <td>30.4</td>\n",
       "      <td>0.315</td>\n",
       "      <td>23</td>\n",
       "      <td>0</td>\n",
       "    </tr>\n",
       "  </tbody>\n",
       "</table>\n",
       "<p>768 rows × 9 columns</p>\n",
       "</div>"
      ],
      "text/plain": [
       "     Pregnancies  Glucose  BloodPressure  SkinThickness  Insulin   BMI  \\\n",
       "0              6      148             72             35        0  33.6   \n",
       "1              1       85             66             29        0  26.6   \n",
       "2              8      183             64              0        0  23.3   \n",
       "3              1       89             66             23       94  28.1   \n",
       "4              0      137             40             35      168  43.1   \n",
       "..           ...      ...            ...            ...      ...   ...   \n",
       "763           10      101             76             48      180  32.9   \n",
       "764            2      122             70             27        0  36.8   \n",
       "765            5      121             72             23      112  26.2   \n",
       "766            1      126             60              0        0  30.1   \n",
       "767            1       93             70             31        0  30.4   \n",
       "\n",
       "     DiabetesPedigreeFunction  Age  Outcome  \n",
       "0                       0.627   50        1  \n",
       "1                       0.351   31        0  \n",
       "2                       0.672   32        1  \n",
       "3                       0.167   21        0  \n",
       "4                       2.288   33        1  \n",
       "..                        ...  ...      ...  \n",
       "763                     0.171   63        0  \n",
       "764                     0.340   27        0  \n",
       "765                     0.245   30        0  \n",
       "766                     0.349   47        1  \n",
       "767                     0.315   23        0  \n",
       "\n",
       "[768 rows x 9 columns]"
      ]
     },
     "execution_count": 2,
     "metadata": {},
     "output_type": "execute_result"
    }
   ],
   "source": [
    "# Import Dataset\n",
    "dataset = pd.read_csv('Pergency Ladies Diabetes Prediction.csv')\n",
    "dataset"
   ]
  },
  {
   "cell_type": "code",
   "execution_count": 3,
   "id": "6d7d41af-f69b-40a8-8135-2a05d505372b",
   "metadata": {},
   "outputs": [
    {
     "data": {
      "text/plain": [
       "Pregnancies                 0\n",
       "Glucose                     0\n",
       "BloodPressure               0\n",
       "SkinThickness               0\n",
       "Insulin                     0\n",
       "BMI                         0\n",
       "DiabetesPedigreeFunction    0\n",
       "Age                         0\n",
       "Outcome                     0\n",
       "dtype: int64"
      ]
     },
     "execution_count": 3,
     "metadata": {},
     "output_type": "execute_result"
    }
   ],
   "source": [
    "dataset.isnull().sum()"
   ]
  },
  {
   "cell_type": "code",
   "execution_count": 4,
   "id": "bc8a4e47-a3d2-4a8b-8b86-7489fb2bd818",
   "metadata": {},
   "outputs": [
    {
     "name": "stdout",
     "output_type": "stream",
     "text": [
      "<class 'pandas.core.frame.DataFrame'>\n",
      "RangeIndex: 768 entries, 0 to 767\n",
      "Data columns (total 9 columns):\n",
      " #   Column                    Non-Null Count  Dtype  \n",
      "---  ------                    --------------  -----  \n",
      " 0   Pregnancies               768 non-null    int64  \n",
      " 1   Glucose                   768 non-null    int64  \n",
      " 2   BloodPressure             768 non-null    int64  \n",
      " 3   SkinThickness             768 non-null    int64  \n",
      " 4   Insulin                   768 non-null    int64  \n",
      " 5   BMI                       768 non-null    float64\n",
      " 6   DiabetesPedigreeFunction  768 non-null    float64\n",
      " 7   Age                       768 non-null    int64  \n",
      " 8   Outcome                   768 non-null    int64  \n",
      "dtypes: float64(2), int64(7)\n",
      "memory usage: 54.1 KB\n"
     ]
    }
   ],
   "source": [
    "dataset.info()"
   ]
  },
  {
   "cell_type": "code",
   "execution_count": 5,
   "id": "b01ff83f-2365-493a-ba3a-d470b7379b0b",
   "metadata": {},
   "outputs": [
    {
     "data": {
      "text/html": [
       "<div>\n",
       "<style scoped>\n",
       "    .dataframe tbody tr th:only-of-type {\n",
       "        vertical-align: middle;\n",
       "    }\n",
       "\n",
       "    .dataframe tbody tr th {\n",
       "        vertical-align: top;\n",
       "    }\n",
       "\n",
       "    .dataframe thead th {\n",
       "        text-align: right;\n",
       "    }\n",
       "</style>\n",
       "<table border=\"1\" class=\"dataframe\">\n",
       "  <thead>\n",
       "    <tr style=\"text-align: right;\">\n",
       "      <th></th>\n",
       "      <th>Pregnancies</th>\n",
       "      <th>Glucose</th>\n",
       "      <th>BloodPressure</th>\n",
       "      <th>SkinThickness</th>\n",
       "      <th>Insulin</th>\n",
       "      <th>BMI</th>\n",
       "      <th>DiabetesPedigreeFunction</th>\n",
       "      <th>Age</th>\n",
       "      <th>Outcome</th>\n",
       "    </tr>\n",
       "  </thead>\n",
       "  <tbody>\n",
       "    <tr>\n",
       "      <th>count</th>\n",
       "      <td>768.000000</td>\n",
       "      <td>768.000000</td>\n",
       "      <td>768.000000</td>\n",
       "      <td>768.000000</td>\n",
       "      <td>768.000000</td>\n",
       "      <td>768.000000</td>\n",
       "      <td>768.000000</td>\n",
       "      <td>768.000000</td>\n",
       "      <td>768.000000</td>\n",
       "    </tr>\n",
       "    <tr>\n",
       "      <th>mean</th>\n",
       "      <td>3.845052</td>\n",
       "      <td>120.894531</td>\n",
       "      <td>69.105469</td>\n",
       "      <td>20.536458</td>\n",
       "      <td>79.799479</td>\n",
       "      <td>31.992578</td>\n",
       "      <td>0.471876</td>\n",
       "      <td>33.240885</td>\n",
       "      <td>0.348958</td>\n",
       "    </tr>\n",
       "    <tr>\n",
       "      <th>std</th>\n",
       "      <td>3.369578</td>\n",
       "      <td>31.972618</td>\n",
       "      <td>19.355807</td>\n",
       "      <td>15.952218</td>\n",
       "      <td>115.244002</td>\n",
       "      <td>7.884160</td>\n",
       "      <td>0.331329</td>\n",
       "      <td>11.760232</td>\n",
       "      <td>0.476951</td>\n",
       "    </tr>\n",
       "    <tr>\n",
       "      <th>min</th>\n",
       "      <td>0.000000</td>\n",
       "      <td>0.000000</td>\n",
       "      <td>0.000000</td>\n",
       "      <td>0.000000</td>\n",
       "      <td>0.000000</td>\n",
       "      <td>0.000000</td>\n",
       "      <td>0.078000</td>\n",
       "      <td>21.000000</td>\n",
       "      <td>0.000000</td>\n",
       "    </tr>\n",
       "    <tr>\n",
       "      <th>25%</th>\n",
       "      <td>1.000000</td>\n",
       "      <td>99.000000</td>\n",
       "      <td>62.000000</td>\n",
       "      <td>0.000000</td>\n",
       "      <td>0.000000</td>\n",
       "      <td>27.300000</td>\n",
       "      <td>0.243750</td>\n",
       "      <td>24.000000</td>\n",
       "      <td>0.000000</td>\n",
       "    </tr>\n",
       "    <tr>\n",
       "      <th>50%</th>\n",
       "      <td>3.000000</td>\n",
       "      <td>117.000000</td>\n",
       "      <td>72.000000</td>\n",
       "      <td>23.000000</td>\n",
       "      <td>30.500000</td>\n",
       "      <td>32.000000</td>\n",
       "      <td>0.372500</td>\n",
       "      <td>29.000000</td>\n",
       "      <td>0.000000</td>\n",
       "    </tr>\n",
       "    <tr>\n",
       "      <th>75%</th>\n",
       "      <td>6.000000</td>\n",
       "      <td>140.250000</td>\n",
       "      <td>80.000000</td>\n",
       "      <td>32.000000</td>\n",
       "      <td>127.250000</td>\n",
       "      <td>36.600000</td>\n",
       "      <td>0.626250</td>\n",
       "      <td>41.000000</td>\n",
       "      <td>1.000000</td>\n",
       "    </tr>\n",
       "    <tr>\n",
       "      <th>max</th>\n",
       "      <td>17.000000</td>\n",
       "      <td>199.000000</td>\n",
       "      <td>122.000000</td>\n",
       "      <td>99.000000</td>\n",
       "      <td>846.000000</td>\n",
       "      <td>67.100000</td>\n",
       "      <td>2.420000</td>\n",
       "      <td>81.000000</td>\n",
       "      <td>1.000000</td>\n",
       "    </tr>\n",
       "  </tbody>\n",
       "</table>\n",
       "</div>"
      ],
      "text/plain": [
       "       Pregnancies     Glucose  BloodPressure  SkinThickness     Insulin  \\\n",
       "count   768.000000  768.000000     768.000000     768.000000  768.000000   \n",
       "mean      3.845052  120.894531      69.105469      20.536458   79.799479   \n",
       "std       3.369578   31.972618      19.355807      15.952218  115.244002   \n",
       "min       0.000000    0.000000       0.000000       0.000000    0.000000   \n",
       "25%       1.000000   99.000000      62.000000       0.000000    0.000000   \n",
       "50%       3.000000  117.000000      72.000000      23.000000   30.500000   \n",
       "75%       6.000000  140.250000      80.000000      32.000000  127.250000   \n",
       "max      17.000000  199.000000     122.000000      99.000000  846.000000   \n",
       "\n",
       "              BMI  DiabetesPedigreeFunction         Age     Outcome  \n",
       "count  768.000000                768.000000  768.000000  768.000000  \n",
       "mean    31.992578                  0.471876   33.240885    0.348958  \n",
       "std      7.884160                  0.331329   11.760232    0.476951  \n",
       "min      0.000000                  0.078000   21.000000    0.000000  \n",
       "25%     27.300000                  0.243750   24.000000    0.000000  \n",
       "50%     32.000000                  0.372500   29.000000    0.000000  \n",
       "75%     36.600000                  0.626250   41.000000    1.000000  \n",
       "max     67.100000                  2.420000   81.000000    1.000000  "
      ]
     },
     "execution_count": 5,
     "metadata": {},
     "output_type": "execute_result"
    }
   ],
   "source": [
    "dataset.describe()"
   ]
  },
  {
   "cell_type": "code",
   "execution_count": 6,
   "id": "fee1a6ad-6ae3-4669-9277-27630559cd7d",
   "metadata": {},
   "outputs": [
    {
     "data": {
      "text/plain": [
       "Index(['Pregnancies', 'Glucose', 'BloodPressure', 'SkinThickness', 'Insulin',\n",
       "       'BMI', 'DiabetesPedigreeFunction', 'Age', 'Outcome'],\n",
       "      dtype='object')"
      ]
     },
     "execution_count": 6,
     "metadata": {},
     "output_type": "execute_result"
    }
   ],
   "source": [
    "dataset.columns"
   ]
  },
  {
   "cell_type": "code",
   "execution_count": 7,
   "id": "9c3785b5-cc77-4a2b-a50f-c81722a4d405",
   "metadata": {},
   "outputs": [],
   "source": [
    "input = dataset[['Pregnancies', 'Glucose', 'BloodPressure', 'SkinThickness', 'Insulin',\n",
    "       'BMI', 'DiabetesPedigreeFunction', 'Age']]\n",
    "\n",
    "output = dataset[['Outcome']]"
   ]
  },
  {
   "cell_type": "code",
   "execution_count": 8,
   "id": "426d8b3d-009f-479e-bba8-83892658e5d5",
   "metadata": {},
   "outputs": [],
   "source": [
    "from sklearn.model_selection import train_test_split\n",
    "X_train,X_test,y_train,y_test = train_test_split(input,output,test_size=0.3,random_state=0)"
   ]
  },
  {
   "cell_type": "code",
   "execution_count": 9,
   "id": "ebad741f-5b6d-477c-b8d5-b52501c85124",
   "metadata": {},
   "outputs": [],
   "source": [
    "# Standard Scaler\n",
    "\n",
    "from sklearn.preprocessing import StandardScaler\n",
    "sc = StandardScaler()\n",
    "X_train = sc.fit_transform(X_train)\n",
    "X_test = sc.transform(X_test)"
   ]
  },
  {
   "cell_type": "code",
   "execution_count": 10,
   "id": "7eec60a6-2e80-4b40-af4a-fd641109d308",
   "metadata": {},
   "outputs": [
    {
     "name": "stdout",
     "output_type": "stream",
     "text": [
      "Fitting 5 folds for each of 30 candidates, totalling 150 fits\n",
      "[[141  16]\n",
      " [ 34  40]]               precision    recall  f1-score   support\n",
      "\n",
      "           0       0.81      0.90      0.85       157\n",
      "           1       0.71      0.54      0.62        74\n",
      "\n",
      "    accuracy                           0.78       231\n",
      "   macro avg       0.76      0.72      0.73       231\n",
      "weighted avg       0.78      0.78      0.77       231\n",
      "\n",
      "roc_auc_score:  0.8330177311069031\n"
     ]
    }
   ],
   "source": [
    "# SVMC\n",
    "from sklearn.model_selection import GridSearchCV\n",
    "from sklearn.svm import SVC\n",
    "#Param_grid = {'kernel':['linear', 'poly', 'rbf', 'sigmoid'], 'gamma':['scale', 'auto'],'C':[10,100,1000,2000,300]}\n",
    "Param_grid = {'kernel':['linear','rbf', 'sigmoid'], 'gamma':['scale', 'auto'],'C':[10,100,1000,2000,300]}\n",
    "grid=GridSearchCV(SVC(probability=True),Param_grid,refit=True,verbose=3,n_jobs=-1,scoring='f1_weighted')\n",
    "grid.fit(X_train,y_train)\n",
    "\n",
    "\n",
    "prnt = grid.cv_results_\n",
    "SVM_grid_prediction = grid.predict(X_test)\n",
    "from sklearn.metrics import confusion_matrix\n",
    "SVM_class = confusion_matrix(y_test,SVM_grid_prediction)\n",
    "from sklearn.metrics import classification_report\n",
    "SVM_class_report = classification_report (y_test,SVM_grid_prediction)\n",
    "print(SVM_class,SVM_class_report)\n",
    "\n",
    "from sklearn.metrics import roc_auc_score\n",
    "roc_auc_score = roc_auc_score(y_test,grid.predict_proba(X_test)[:,1])\n",
    "print('roc_auc_score: ',roc_auc_score)"
   ]
  },
  {
   "cell_type": "code",
   "execution_count": 11,
   "id": "d42920ab-f772-41e2-bde0-40af03ed43a3",
   "metadata": {},
   "outputs": [
    {
     "name": "stdout",
     "output_type": "stream",
     "text": [
      "Fitting 5 folds for each of 12 candidates, totalling 60 fits\n",
      "[[125  32]\n",
      " [ 25  49]]               precision    recall  f1-score   support\n",
      "\n",
      "           0       0.83      0.80      0.81       157\n",
      "           1       0.60      0.66      0.63        74\n",
      "\n",
      "    accuracy                           0.75       231\n",
      "   macro avg       0.72      0.73      0.72       231\n",
      "weighted avg       0.76      0.75      0.76       231\n",
      "\n",
      "roc_auc_score:  0.7291702530556035\n"
     ]
    }
   ],
   "source": [
    "# Decission Tree\n",
    "\n",
    "from sklearn.model_selection import GridSearchCV\n",
    "from sklearn.tree import DecisionTreeClassifier\n",
    "Param_grid = {'criterion':['gini','entropy','log_loss'],'splitter':['best','random'],'max_features':['sqrt','log2']}\n",
    "DT_grid=GridSearchCV(DecisionTreeClassifier(),Param_grid,refit=True,verbose=3,n_jobs=-1,scoring='f1_weighted')\n",
    "DT_grid.fit(X_train,y_train)\n",
    "\n",
    "prnt = DT_grid.cv_results_\n",
    "\n",
    "DT_grid_prediction = DT_grid.predict(X_test)\n",
    "from sklearn.metrics import confusion_matrix\n",
    "DT_class = confusion_matrix(y_test,DT_grid_prediction)\n",
    "from sklearn.metrics import classification_report\n",
    "DT_class_report = classification_report (y_test,DT_grid_prediction)\n",
    "print(DT_class,DT_class_report)\n",
    "\n",
    "from sklearn.metrics import roc_auc_score\n",
    "roc_auc_score = roc_auc_score(y_test,DT_grid.predict_proba(X_test)[:,1])\n",
    "print('roc_auc_score: ', roc_auc_score)"
   ]
  },
  {
   "cell_type": "code",
   "execution_count": 12,
   "id": "769b7997-121d-4603-a427-6076c5aaf614",
   "metadata": {},
   "outputs": [
    {
     "name": "stdout",
     "output_type": "stream",
     "text": [
      "Fitting 5 folds for each of 6 candidates, totalling 30 fits\n",
      "[[139  18]\n",
      " [ 35  39]]               precision    recall  f1-score   support\n",
      "\n",
      "           0       0.80      0.89      0.84       157\n",
      "           1       0.68      0.53      0.60        74\n",
      "\n",
      "    accuracy                           0.77       231\n",
      "   macro avg       0.74      0.71      0.72       231\n",
      "weighted avg       0.76      0.77      0.76       231\n",
      "\n",
      "roc_auc_score:  0.7061886727491823\n"
     ]
    }
   ],
   "source": [
    "# Random Forest\n",
    "\n",
    "from sklearn.model_selection import GridSearchCV\n",
    "from sklearn.ensemble import RandomForestClassifier\n",
    "param_grid = {'criterion':['gini','entropy','log_loss'],'max_features':['sqrt','log2']}\n",
    "RF_grid = GridSearchCV(RandomForestClassifier(),param_grid,refit=True,verbose=3,n_jobs=-3,scoring='f1_weighted')\n",
    "RF_grid.fit(X_train,y_train)\n",
    "\n",
    "#print(RF_grid.cv_results_)\n",
    "\n",
    "RF_grid_prediction = RF_grid.predict(X_test)\n",
    "from sklearn.metrics import confusion_matrix\n",
    "RF_class = confusion_matrix(y_test,RF_grid_prediction)\n",
    "from sklearn.metrics import classification_report\n",
    "RF_class_report = classification_report (y_test,RF_grid_prediction)\n",
    "print(RF_class,RF_class_report)\n",
    "\n",
    "from sklearn.metrics import roc_auc_score\n",
    "roc_auc_score = roc_auc_score(y_test,RF_grid_prediction)\n",
    "print('roc_auc_score: ',roc_auc_score)"
   ]
  },
  {
   "cell_type": "code",
   "execution_count": 13,
   "id": "def06eee-0809-41cb-a094-da4ddae644e1",
   "metadata": {},
   "outputs": [
    {
     "name": "stdout",
     "output_type": "stream",
     "text": [
      "Fitting 5 folds for each of 18 candidates, totalling 90 fits\n",
      "[[142  15]\n",
      " [ 35  39]]               precision    recall  f1-score   support\n",
      "\n",
      "           0       0.80      0.90      0.85       157\n",
      "           1       0.72      0.53      0.61        74\n",
      "\n",
      "    accuracy                           0.78       231\n",
      "   macro avg       0.76      0.72      0.73       231\n",
      "weighted avg       0.78      0.78      0.77       231\n",
      "\n",
      "roc_auc_score:  0.7157428128765708\n"
     ]
    }
   ],
   "source": [
    "# LogisticRegression\n",
    "\n",
    "from sklearn.linear_model import LogisticRegression\n",
    "from sklearn.model_selection import GridSearchCV\n",
    "param_grid  = {'solver':['lbfgs', 'liblinear', 'newton-cg', 'newton-cholesky','sag','saga'], 'penalty':['l1', 'l2', 'elasticnet'] }\n",
    "LR_grid = GridSearchCV(LogisticRegression(),param_grid,refit=True,verbose=3,n_jobs=-1,scoring='f1_weighted')\n",
    "LR_grid.fit(X_train,y_train)\n",
    "\n",
    "#print = LR_grid.cv_results_\n",
    "\n",
    "LR_grid_prediction = LR_grid.predict(X_test)\n",
    "from sklearn.metrics import confusion_matrix\n",
    "LR_class = confusion_matrix(y_test,LR_grid_prediction)\n",
    "from sklearn.metrics import classification_report\n",
    "LR_class_report = classification_report(y_test,LR_grid_prediction)\n",
    "print(LR_class,LR_class_report)\n",
    "\n",
    "from sklearn.metrics import roc_auc_score\n",
    "roc_auc_score = roc_auc_score(y_test,LR_grid_prediction)\n",
    "print('roc_auc_score: ',roc_auc_score)"
   ]
  },
  {
   "cell_type": "code",
   "execution_count": 14,
   "id": "29ba6c13-5b9e-4bad-8144-a3e19bbf0dc0",
   "metadata": {},
   "outputs": [
    {
     "name": "stdout",
     "output_type": "stream",
     "text": [
      "Fitting 5 folds for each of 8 candidates, totalling 40 fits\n",
      "roc_auc_score:  0.7208641762781891\n"
     ]
    }
   ],
   "source": [
    "# KNN\n",
    "\n",
    "from sklearn.neighbors import KNeighborsClassifier\n",
    "from sklearn.model_selection import GridSearchCV\n",
    "param_grid = {'n_neighbors':[5], 'weights':['uniform','distance'], 'algorithm':['auto','ball_tree', 'kd_tree', 'brute'], 'metric':['minkowski']}\n",
    "KNN_grid = GridSearchCV(KNeighborsClassifier(),param_grid,refit=True,verbose=3,n_jobs=-1,scoring='f1_weighted')\n",
    "KNN_grid.fit(X_train,y_train)\n",
    "\n",
    "#print = KNN_grid.cv_results_\n",
    "\n",
    "KNN_grid_prediction = KNN_grid.predict(X_test)\n",
    "from sklearn.metrics import confusion_matrix\n",
    "KNN_class = confusion_matrix(y_test,KNN_grid_prediction)\n",
    "KNN_class\n",
    "\n",
    "\n",
    "from sklearn.metrics import classification_report\n",
    "KNN_class_report = classification_report(y_test,KNN_grid_prediction)\n",
    "KNN_class_report\n",
    "\n",
    "from sklearn.metrics import roc_auc_score\n",
    "roc_auc_score = roc_auc_score(y_test,KNN_grid_prediction)\n",
    "print('roc_auc_score: ',roc_auc_score)"
   ]
  },
  {
   "cell_type": "code",
   "execution_count": 15,
   "id": "a0ad9f9b-0e02-404e-9e22-d7ca2ebbad81",
   "metadata": {},
   "outputs": [
    {
     "name": "stdout",
     "output_type": "stream",
     "text": [
      "[[138  19]\n",
      " [ 36  38]]               precision    recall  f1-score   support\n",
      "\n",
      "           0       0.79      0.88      0.83       157\n",
      "           1       0.67      0.51      0.58        74\n",
      "\n",
      "    accuracy                           0.76       231\n",
      "   macro avg       0.73      0.70      0.71       231\n",
      "weighted avg       0.75      0.76      0.75       231\n",
      " \n",
      "roc_auc_score: 0.6962472026166294\n"
     ]
    }
   ],
   "source": [
    "# Naive Byes\n",
    "\n",
    "from sklearn.naive_bayes import GaussianNB\n",
    "G_NB = GaussianNB()\n",
    "G_NB.fit(X_train,y_train)\n",
    "\n",
    "G_NB_pred = G_NB.predict(X_test)\n",
    "from sklearn.metrics import confusion_matrix\n",
    "NB_class = confusion_matrix(y_test,G_NB_pred)\n",
    "from sklearn.metrics import classification_report\n",
    "NB_class_report = classification_report(y_test,G_NB_pred)\n",
    "\n",
    "from sklearn.metrics import roc_auc_score\n",
    "roc_auc_score = roc_auc_score(y_test,G_NB_pred)\n",
    "print(NB_class,NB_class_report,'\\nroc_auc_score:',roc_auc_score)"
   ]
  },
  {
   "cell_type": "code",
   "execution_count": 16,
   "id": "5870dae6-ade6-447e-9289-7ccc0253aab2",
   "metadata": {},
   "outputs": [
    {
     "name": "stdout",
     "output_type": "stream",
     "text": [
      "[[130  27]\n",
      " [ 36  38]]               precision    recall  f1-score   support\n",
      "\n",
      "           0       0.78      0.83      0.80       157\n",
      "           1       0.58      0.51      0.55        74\n",
      "\n",
      "    accuracy                           0.73       231\n",
      "   macro avg       0.68      0.67      0.68       231\n",
      "weighted avg       0.72      0.73      0.72       231\n",
      " \n",
      "roc_auc_score: 0.67076949561026\n"
     ]
    }
   ],
   "source": [
    "# Naive Byes\n",
    "\n",
    "from sklearn.naive_bayes import BernoulliNB\n",
    "\n",
    "M_NB = BernoulliNB()\n",
    "M_NB.fit(X_train,y_train)\n",
    "\n",
    "M_NB_pred = M_NB.predict(X_test)\n",
    "from sklearn.metrics import confusion_matrix\n",
    "M_NB_class = confusion_matrix(y_test,M_NB_pred)\n",
    "from sklearn.metrics import classification_report\n",
    "M_NB_class_report = classification_report(y_test,M_NB_pred)\n",
    "\n",
    "from sklearn.metrics import roc_auc_score\n",
    "roc_auc_score = roc_auc_score(y_test,M_NB_pred)\n",
    "print(M_NB_class,M_NB_class_report,'\\nroc_auc_score:',roc_auc_score)"
   ]
  },
  {
   "cell_type": "code",
   "execution_count": 17,
   "id": "a688dad7-84f6-4fed-820a-86d1c9c71562",
   "metadata": {},
   "outputs": [
    {
     "data": {
      "text/plain": [
       "<Axes: xlabel='DiabetesPedigreeFunction', ylabel='Density'>"
      ]
     },
     "execution_count": 17,
     "metadata": {},
     "output_type": "execute_result"
    },
    {
     "data": {
      "image/png": "[encoded data removed]",
      "text/plain": [
       "<Figure size 640x480 with 1 Axes>"
      ]
     },
     "metadata": {},
     "output_type": "display_data"
    }
   ],
   "source": [
    "sea.distplot(dataset['DiabetesPedigreeFunction'],kde=True,kde_kws={'color':'red'})"
   ]
  },
  {
   "cell_type": "code",
   "execution_count": 18,
   "id": "4faf2fee-6cd7-4dd1-bea6-96d37af8550b",
   "metadata": {},
   "outputs": [
    {
     "data": {
      "text/plain": [
       "<Axes: xlabel='Outcome', ylabel='Age'>"
      ]
     },
     "execution_count": 18,
     "metadata": {},
     "output_type": "execute_result"
    },
    {
     "data": {
      "image/png": "[encoded data removed]",
      "text/plain": [
       "<Figure size 640x480 with 1 Axes>"
      ]
     },
     "metadata": {},
     "output_type": "display_data"
    }
   ],
   "source": [
    "sea.violinplot(x='Outcome',y='Age',data=dataset)"
   ]
  },
  {
   "cell_type": "code",
   "execution_count": 19,
   "id": "5de42535-2b1e-49a1-b174-674311c3d1f7",
   "metadata": {},
   "outputs": [],
   "source": [
    "# Select K best\n",
    "\n",
    "from sklearn.feature_selection import SelectKBest\n",
    "def selectkbest(inp,out,n):\n",
    "        test = SelectKBest(score_func=chi2, k=n)\n",
    "        fit1= test.fit(inp,out)\n",
    "        selectk_features = fit1.transform(inp)\n",
    "        return selectk_features"
   ]
  },
  {
   "cell_type": "code",
   "execution_count": 20,
   "id": "b81d071f-c6c3-49f5-a2d3-e68ddd0d6ac8",
   "metadata": {},
   "outputs": [],
   "source": [
    "def logistic(X_train,y_train,X_test):\n",
    "        # Fitting K-NN to the Training set\n",
    "        from sklearn.linear_model import LogisticRegression\n",
    "        classifier = LogisticRegression(random_state = 0)\n",
    "        classifier.fit(X_train, y_train)\n",
    "        classifier,Accuracy,report,X_test,y_test,cm=cm_prediction(classifier,X_test)\n",
    "        return  classifier,Accuracy,report,X_test,y_test,cm"
   ]
  },
  {
   "cell_type": "code",
   "execution_count": 21,
   "id": "5980a524-943c-4f67-9477-e257b1da8502",
   "metadata": {},
   "outputs": [],
   "source": [
    "def cm_prediction(classifier,X_test):\n",
    "     y_pred = classifier.predict(X_test)\n",
    "        \n",
    "        # Making the Confusion Matrix\n",
    "     from sklearn.metrics import confusion_matrix\n",
    "     cm = confusion_matrix(y_test, y_pred)\n",
    "        \n",
    "     from sklearn.metrics import accuracy_score \n",
    "     from sklearn.metrics import classification_report \n",
    "        #from sklearn.metrics import confusion_matrix\n",
    "        #cm = confusion_matrix(y_test, y_pred)\n",
    "        \n",
    "     Accuracy=accuracy_score(y_test, y_pred )\n",
    "        \n",
    "     report=classification_report(y_test, y_pred)\n",
    "     return  classifier,Accuracy,report,X_test,y_test,cm"
   ]
  },
  {
   "cell_type": "code",
   "execution_count": 22,
   "id": "d9a38927-bcb5-43d4-ad96-d94cd22f0a3a",
   "metadata": {},
   "outputs": [],
   "source": [
    "def svm_linear(X_train,y_train,X_test):\n",
    "                \n",
    "        from sklearn.svm import SVC\n",
    "        classifier = SVC(kernel = 'linear', random_state = 0)\n",
    "        classifier.fit(X_train, y_train)\n",
    "        classifier,Accuracy,report,X_test,y_test,cm=cm_prediction(classifier,X_test)\n",
    "        return  classifier,Accuracy,report,X_test,y_test,cm\n"
   ]
  },
  {
   "cell_type": "code",
   "execution_count": 23,
   "id": "f4c43ea8-1dd9-4a85-98b2-6a891ce0fad2",
   "metadata": {},
   "outputs": [],
   "source": [
    "def svm_NL(X_train,y_train,X_test):\n",
    "                \n",
    "        from sklearn.svm import SVC\n",
    "        classifier = SVC(kernel = 'rbf', random_state = 0)\n",
    "        classifier.fit(X_train, y_train)\n",
    "        classifier,Accuracy,report,X_test,y_test,cm=cm_prediction(classifier,X_test)\n",
    "        return  classifier,Accuracy,report,X_test,y_test,cm"
   ]
  },
  {
   "cell_type": "code",
   "execution_count": 24,
   "id": "142e4d64-dab2-4590-82a0-78a8f8f8e166",
   "metadata": {},
   "outputs": [],
   "source": [
    "def Navie(X_train,y_train,X_test):       \n",
    "        # Fitting K-NN to the Training set\n",
    "        from sklearn.naive_bayes import GaussianNB\n",
    "        classifier = GaussianNB()\n",
    "        classifier.fit(X_train, y_train)\n",
    "        classifier,Accuracy,report,X_test,y_test,cm=cm_prediction(classifier,X_test)\n",
    "        return  classifier,Accuracy,report,X_test,y_test,cm         "
   ]
  },
  {
   "cell_type": "code",
   "execution_count": 25,
   "id": "68dda3d6-2e3d-437a-8ea8-4bd5cf952a12",
   "metadata": {},
   "outputs": [],
   "source": [
    "def knn(X_train,y_train,X_test):\n",
    "           \n",
    "        # Fitting K-NN to the Training set\n",
    "        from sklearn.neighbors import KNeighborsClassifier\n",
    "        classifier = KNeighborsClassifier(n_neighbors = 5, metric = 'minkowski', p = 2)\n",
    "        classifier.fit(X_train, y_train)\n",
    "        classifier,Accuracy,report,X_test,y_test,cm=cm_prediction(classifier,X_test)\n",
    "        return  classifier,Accuracy,report,X_test,y_test,cm"
   ]
  },
  {
   "cell_type": "code",
   "execution_count": 26,
   "id": "0aeffc53-2d32-4560-9558-6cdc7017636b",
   "metadata": {},
   "outputs": [],
   "source": [
    "def Decision(X_train,y_train,X_test):\n",
    "        \n",
    "        # Fitting K-NN to the Training set\n",
    "        from sklearn.tree import DecisionTreeClassifier\n",
    "        classifier = DecisionTreeClassifier(criterion = 'entropy', random_state = 0)\n",
    "        classifier.fit(X_train, y_train)\n",
    "        classifier,Accuracy,report,X_test,y_test,cm=cm_prediction(classifier,X_test)\n",
    "        return  classifier,Accuracy,report,X_test,y_test,cm      "
   ]
  },
  {
   "cell_type": "code",
   "execution_count": 27,
   "id": "08c710af-ca0f-4989-9279-00327be570be",
   "metadata": {},
   "outputs": [],
   "source": [
    "def random(X_train,y_train,X_test):\n",
    "        \n",
    "        # Fitting K-NN to the Training set\n",
    "        from sklearn.ensemble import RandomForestClassifier\n",
    "        classifier = RandomForestClassifier(n_estimators = 10, criterion = 'entropy', random_state = 0)\n",
    "        classifier.fit(X_train, y_train)\n",
    "        classifier,Accuracy,report,X_test,y_test,cm=cm_prediction(classifier,X_test)\n",
    "        return  classifier,Accuracy,report,X_test,y_test,cm"
   ]
  },
  {
   "cell_type": "code",
   "execution_count": 28,
   "id": "a6918ac2-7e6d-48c4-b2c8-5c580d4ebdd7",
   "metadata": {},
   "outputs": [],
   "source": [
    "def selectk_Classification(acclog,accsvml,accsvmnl,accknn,accnav,accdes,accrf): \n",
    "    \n",
    "    dataframe=pd.DataFrame(index=['ChiSquare'],columns=['Logistic','SVMl','SVMnl','KNN','Navie','Decision','Random'])\n",
    "    for number,idex in enumerate(dataframe.index):      \n",
    "        dataframe['Logistic'][idex]=acclog[number]       \n",
    "        dataframe['SVMl'][idex]=accsvml[number]\n",
    "        dataframe['SVMnl'][idex]=accsvmnl[number]\n",
    "        dataframe['KNN'][idex]=accknn[number]\n",
    "        dataframe['Navie'][idex]=accnav[number]\n",
    "        dataframe['Decision'][idex]=accdes[number]\n",
    "        dataframe['Random'][idex]=accrf[number]\n",
    "    return dataframe"
   ]
  },
  {
   "cell_type": "code",
   "execution_count": 29,
   "id": "29651702-28bd-48f6-b893-e1b0d3481ccc",
   "metadata": {},
   "outputs": [],
   "source": [
    "kbest=selectkbest(input,output,5)       \n",
    "\n",
    "acclog=[]\n",
    "accsvml=[]\n",
    "accsvmnl=[]\n",
    "accknn=[]\n",
    "accnav=[]\n",
    "accdes=[]\n",
    "accrf=[]"
   ]
  },
  {
   "cell_type": "code",
   "execution_count": 30,
   "id": "9a037986-abbb-4b85-b07e-5872666d99f9",
   "metadata": {},
   "outputs": [
    {
     "data": {
      "text/plain": [
       "array([[  6. , 148. ,   0. ,  33.6,  50. ],\n",
       "       [  1. ,  85. ,   0. ,  26.6,  31. ],\n",
       "       [  8. , 183. ,   0. ,  23.3,  32. ],\n",
       "       ...,\n",
       "       [  5. , 121. , 112. ,  26.2,  30. ],\n",
       "       [  1. , 126. ,   0. ,  30.1,  47. ],\n",
       "       [  1. ,  93. ,   0. ,  30.4,  23. ]])"
      ]
     },
     "execution_count": 30,
     "metadata": {},
     "output_type": "execute_result"
    }
   ],
   "source": [
    "kbest"
   ]
  },
  {
   "cell_type": "code",
   "execution_count": 31,
   "id": "00e85e4b-52ce-450c-9b54-c3b5fd5823eb",
   "metadata": {},
   "outputs": [],
   "source": [
    "from sklearn.model_selection import train_test_split\n",
    "from sklearn.preprocessing import StandardScaler\n",
    "def split_scalar(input,output):\n",
    "        X_train, X_test, y_train, y_test = train_test_split(input, output, test_size = 0.25, random_state = 0)\n",
    "        sc = StandardScaler()\n",
    "        X_train = sc.fit_transform(X_train)\n",
    "        X_test = sc.transform(X_test)    \n",
    "        return X_train, X_test, y_train, y_test"
   ]
  },
  {
   "cell_type": "code",
   "execution_count": 32,
   "id": "d0a19215-f1ee-48c0-93b1-33e7bfc772b1",
   "metadata": {},
   "outputs": [],
   "source": [
    "X_train, X_test, y_train, y_test=split_scalar(kbest,output)   \n",
    "    \n",
    "        \n",
    "classifier,Accuracy,report,X_test,y_test,cm=logistic(X_train,y_train,X_test)\n",
    "acclog.append(Accuracy)\n",
    "\n",
    "classifier,Accuracy,report,X_test,y_test,cm=svm_linear(X_train,y_train,X_test)  \n",
    "accsvml.append(Accuracy)\n",
    "    \n",
    "classifier,Accuracy,report,X_test,y_test,cm=svm_NL(X_train,y_train,X_test)  \n",
    "accsvmnl.append(Accuracy)\n",
    "    \n",
    "classifier,Accuracy,report,X_test,y_test,cm=knn(X_train,y_train,X_test)  \n",
    "accknn.append(Accuracy)\n",
    "    \n",
    "classifier,Accuracy,report,X_test,y_test,cm=Navie(X_train,y_train,X_test)  \n",
    "accnav.append(Accuracy)\n",
    "    \n",
    "classifier,Accuracy,report,X_test,y_test,cm=Decision(X_train,y_train,X_test)  \n",
    "accdes.append(Accuracy)\n",
    "    \n",
    "classifier,Accuracy,report,X_test,y_test,cm=random(X_train,y_train,X_test)  \n",
    "accrf.append(Accuracy)\n",
    "    \n",
    "result=selectk_Classification(acclog,accsvml,accsvmnl,accknn,accnav,accdes,accrf)"
   ]
  },
  {
   "cell_type": "code",
   "execution_count": 33,
   "id": "d53d54fd-3684-4a87-8f20-ef9debbeda17",
   "metadata": {},
   "outputs": [
    {
     "data": {
      "text/html": [
       "<div>\n",
       "<style scoped>\n",
       "    .dataframe tbody tr th:only-of-type {\n",
       "        vertical-align: middle;\n",
       "    }\n",
       "\n",
       "    .dataframe tbody tr th {\n",
       "        vertical-align: top;\n",
       "    }\n",
       "\n",
       "    .dataframe thead th {\n",
       "        text-align: right;\n",
       "    }\n",
       "</style>\n",
       "<table border=\"1\" class=\"dataframe\">\n",
       "  <thead>\n",
       "    <tr style=\"text-align: right;\">\n",
       "      <th></th>\n",
       "      <th>Logistic</th>\n",
       "      <th>SVMl</th>\n",
       "      <th>SVMnl</th>\n",
       "      <th>KNN</th>\n",
       "      <th>Navie</th>\n",
       "      <th>Decision</th>\n",
       "      <th>Random</th>\n",
       "    </tr>\n",
       "  </thead>\n",
       "  <tbody>\n",
       "    <tr>\n",
       "      <th>ChiSquare</th>\n",
       "      <td>0.786458</td>\n",
       "      <td>0.78125</td>\n",
       "      <td>0.770833</td>\n",
       "      <td>0.796875</td>\n",
       "      <td>0.765625</td>\n",
       "      <td>0.760417</td>\n",
       "      <td>0.765625</td>\n",
       "    </tr>\n",
       "  </tbody>\n",
       "</table>\n",
       "</div>"
      ],
      "text/plain": [
       "           Logistic     SVMl     SVMnl       KNN     Navie  Decision    Random\n",
       "ChiSquare  0.786458  0.78125  0.770833  0.796875  0.765625  0.760417  0.765625"
      ]
     },
     "execution_count": 33,
     "metadata": {},
     "output_type": "execute_result"
    }
   ],
   "source": [
    "result"
   ]
  },
  {
   "cell_type": "code",
   "execution_count": 34,
   "id": "3d413c41-c3f9-4c5a-89e0-0a28ec5c94f6",
   "metadata": {},
   "outputs": [],
   "source": [
    "# Save the best model\n",
    "\n",
    "import pickle\n",
    "filename = \"Capstone_project.sav\""
   ]
  },
  {
   "cell_type": "code",
   "execution_count": 35,
   "id": "44ac2f90-3759-4c69-b9da-584647cacc76",
   "metadata": {},
   "outputs": [],
   "source": [
    "pickle.dump(classifier,open(filename,'wb'))"
   ]
  },
  {
   "cell_type": "code",
   "execution_count": 36,
   "id": "1cbbc36a-063d-4d50-9607-99d8df8e1231",
   "metadata": {},
   "outputs": [
    {
     "name": "stdout",
     "output_type": "stream",
     "text": [
      "Outcome:  1\n"
     ]
    }
   ],
   "source": [
    "# load the saved model for test\n",
    "\n",
    "Load_model=pickle.load(open(\"Capstone_project.sav\",'rb'))\n",
    "Result=Load_model.predict([[6,100,50,40,30]])\n",
    "print(\"Outcome: \",Result[0])"
   ]
  },
  {
   "cell_type": "code",
   "execution_count": null,
   "id": "1c41d471-2cfe-46eb-8b1d-6c5d32320617",
   "metadata": {},
   "outputs": [],
   "source": []
  }
 ],
 "metadata": {
  "kernelspec": {
   "display_name": "Python 3 (ipykernel)",
   "language": "python",
   "name": "python3"
  },
  "language_info": {
   "codemirror_mode": {
    "name": "ipython",
    "version": 3
   },
   "file_extension": ".py",
   "mimetype": "text/x-python",
   "name": "python",
   "nbconvert_exporter": "python",
   "pygments_lexer": "ipython3",
   "version": "3.9.23"
  }
 },
 "nbformat": 4,
 "nbformat_minor": 5
}
