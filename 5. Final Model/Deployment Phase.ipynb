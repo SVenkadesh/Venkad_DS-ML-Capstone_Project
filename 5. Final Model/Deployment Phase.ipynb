{
 "cells": [
  {
   "cell_type": "code",
   "execution_count": 5,
   "id": "1a6678ea-2dc9-4952-894b-d4a1f63e7c94",
   "metadata": {},
   "outputs": [],
   "source": [
    "# call the saved model\n",
    "\n",
    "import pickle"
   ]
  },
  {
   "cell_type": "code",
   "execution_count": 6,
   "id": "6d268b1d-fb48-4858-ac6a-48e97608fe1b",
   "metadata": {},
   "outputs": [],
   "source": [
    "Load_model=pickle.load(open(\"Capstone_project.sav\",'rb'))\n",
    "Result=Load_model.predict([[1,1,150,6.0,1000,20,1000,21,1]])"
   ]
  },
  {
   "cell_type": "code",
   "execution_count": 9,
   "id": "513bb591-d70d-4c4f-8ec1-d85804891362",
   "metadata": {},
   "outputs": [
    {
     "name": "stdout",
     "output_type": "stream",
     "text": [
      "User Behavior Class:  5\n"
     ]
    }
   ],
   "source": [
    "print(\"User Behavior Class: \",Result[0])"
   ]
  },
  {
   "cell_type": "code",
   "execution_count": null,
   "id": "5d8da14c-cbbc-4949-b7e2-64a4eaba5b91",
   "metadata": {},
   "outputs": [],
   "source": []
  }
 ],
 "metadata": {
  "kernelspec": {
   "display_name": "Python 3 (ipykernel)",
   "language": "python",
   "name": "python3"
  },
  "language_info": {
   "codemirror_mode": {
    "name": "ipython",
    "version": 3
   },
   "file_extension": ".py",
   "mimetype": "text/x-python",
   "name": "python",
   "nbconvert_exporter": "python",
   "pygments_lexer": "ipython3",
   "version": "3.11.5"
  }
 },
 "nbformat": 4,
 "nbformat_minor": 5
}
